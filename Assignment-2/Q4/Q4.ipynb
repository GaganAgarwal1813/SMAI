{
 "cells": [
  {
   "cell_type": "markdown",
   "id": "500e9f2c-75d3-4865-aaa4-f45e1642d29a",
   "metadata": {},
   "source": [
    "# SMAI Assignment - 2\n",
    "\n",
    "## Question - `4` : Gaussian Naïve Bayes\n",
    "\n",
    "| | |\n",
    "|- | -|\n",
    "| Course | Statistical Methods in AI |\n",
    "| Release Date | `16.02.2023` |\n",
    "| Due Date | `24.02.2023` |"
   ]
  },
  {
   "cell_type": "markdown",
   "id": "086e75e8-62ac-4f03-8ff3-936f60dbb0be",
   "metadata": {},
   "source": [
    "This question will have you working and experimenting with the Gaussian Naïve Bayes classifier. Initially, you will calculate the priors and the parameters for the Gaussians. Then, you will use the likelihoods to classify the test data. Please note that use of `sklearn` implementations is only for the final question in the Experiments section.\n",
    "\n",
    "The dataset is simple and interesting, the [Wireless Indoor Localization Data Set](https://archive.ics.uci.edu/ml/datasets/Wireless+Indoor+Localization). An office has seven Wi-Fi routers and its signal strengths received from these routers categorize the location of the receiver (in one of four rooms). There are 7 attributes and a class label column that can take 4 values. The data is present in `wifiLocalization.txt`. It contains 2000 samples."
   ]
  },
  {
   "cell_type": "markdown",
   "id": "5034071d-eda2-401d-95f2-1957acb0d85c",
   "metadata": {},
   "source": [
    "### Imports"
   ]
  },
  {
   "cell_type": "code",
   "execution_count": 140,
   "id": "123c3de5-95b1-47c3-a3e6-0efc4b5c9cc9",
   "metadata": {},
   "outputs": [],
   "source": [
    "import numpy as np\n",
    "import matplotlib.pyplot as plt\n",
    "import pandas as pd\n",
    "\n",
    "# additional imports if necessary\n",
    "from sklearn.model_selection import train_test_split"
   ]
  },
  {
   "cell_type": "code",
   "execution_count": 141,
   "id": "58f333e5",
   "metadata": {},
   "outputs": [],
   "source": [
    "y_pred_test_global = None"
   ]
  },
  {
   "cell_type": "markdown",
   "id": "4fb53a58-bb13-472c-be7e-af487a8128a6",
   "metadata": {},
   "source": [
    "### Estimate Gaussian parameters\n",
    "\n",
    "Write a function to estimate the parameters of the Gaussian distribution."
   ]
  },
  {
   "cell_type": "code",
   "execution_count": 142,
   "id": "77ba7db2-d539-4a5a-80d5-aaf3afb51996",
   "metadata": {},
   "outputs": [],
   "source": [
    "# your code here\n",
    "# Calculate the mean and variance of the feature values for each class\n",
    "def calculate_mean_var(X,Y):\n",
    "    # your code here\n",
    "    feature_count = X.shape[1]\n",
    "    class_count = len(np.unique(Y))\n",
    "    mean = X.groupby(by = Y).mean()\n",
    "    var = X.groupby(by = Y).var()\n",
    "\n",
    "    # print(\"Mean: \", mean)\n",
    "    # print(\"Variance: \", var)\n",
    "\n",
    "    # Combining Mean and Variance for each Feature\n",
    "    m = np.array(mean)\n",
    "    v = np.array(var)\n",
    "\n",
    "    mean_var = []\n",
    "\n",
    "    for i in range(len(m)):\n",
    "        m_row = m[i] # Mean of Every Feature for each class\n",
    "        v_row = v[i] # Variance of Every Feature for each class\n",
    "\n",
    "        for index, value in enumerate(m_row):\n",
    "            mean_v = value\n",
    "            var_v = v_row[index]\n",
    "            mean_var.append([mean_v, var_v])\n",
    "\n",
    "    # Splitting Mean_var class wise\n",
    "    mean_var2 = np.array(mean_var)\n",
    "    \n",
    "    mean_var3 = np.split(mean_var2, class_count)\n",
    "\n",
    "    return mean_var3"
   ]
  },
  {
   "cell_type": "markdown",
   "id": "ef3c230b-1a48-40e2-987d-5c423c091ca4",
   "metadata": {},
   "source": [
    "### Calculate priors\n",
    "\n",
    "Write a function to calculate the priors for each class."
   ]
  },
  {
   "cell_type": "code",
   "execution_count": 143,
   "id": "3a8178d8-4cfe-410c-a1a5-7e89b406f5c3",
   "metadata": {},
   "outputs": [],
   "source": [
    "# your code here\n",
    "def prior_probab(y_train):\n",
    "    prob = {}\n",
    "    for val in y_train:\n",
    "        if val in prob:\n",
    "            prob[val] += 1\n",
    "        else:\n",
    "            prob[val] = 1\n",
    "    total_count = len(y_train)\n",
    "    for key in prob:\n",
    "        prob[key] = prob[key]/total_count\n",
    "    return prob"
   ]
  },
  {
   "cell_type": "markdown",
   "id": "d70aa354-8c95-45b5-a94e-fbd74db1d58e",
   "metadata": {},
   "source": [
    "### Likelihood + Classification\n",
    "\n",
    "Given a test sample, write a function to get the likelihoods for each class in the sample. Use the Gaussian parameters and priors calculated above. Then compute the likelihood that the sample belongs to each class and return the class with the highest likelihood.\n",
    "\n",
    "What is a common problem with the likelihoods? How can you fix it? Redo the classification with the fixed likelihoods. (You can either write another function or modify the existing one after mentioning the reason for the change)"
   ]
  },
  {
   "cell_type": "code",
   "execution_count": 144,
   "id": "3ae21c1c-1cb3-4379-88cc-fb032ce3b2d1",
   "metadata": {},
   "outputs": [],
   "source": [
    "# your code here\n"
   ]
  },
  {
   "cell_type": "code",
   "execution_count": 145,
   "id": "24e27367",
   "metadata": {},
   "outputs": [],
   "source": [
    "# Build the Gaussian Naive Bayes \n",
    "def gnd(x_val, x_mean, x_var):\n",
    "    mean = x_mean\n",
    "    e = np.e\n",
    "    pi = np.pi\n",
    "    eq1 = 1/(np.sqrt(2*pi*x_var))\n",
    "    eq2 = np.exp(-((x_val-mean)**2)/(2*x_var)) \n",
    "    prob = eq1*eq2\n",
    "    return prob"
   ]
  },
  {
   "cell_type": "code",
   "execution_count": 146,
   "id": "335c202c",
   "metadata": {},
   "outputs": [],
   "source": [
    "def find_class(posterior_prob,classes):\n",
    "    prob_index = posterior_prob.index(max(posterior_prob))\n",
    "    return classes[prob_index]"
   ]
  },
  {
   "cell_type": "code",
   "execution_count": 147,
   "id": "3d8ee6b5",
   "metadata": {},
   "outputs": [],
   "source": [
    "def gnd_helper(mean_var, x_test, prior_prob, classes):\n",
    "    n_classes = len(mean_var)\n",
    "    prob_lis = []\n",
    "    for i in range(n_classes):\n",
    "        class1 = mean_var[i]\n",
    "        for i in range(len(class1)):\n",
    "            class1_mean_val = class1[i][0]\n",
    "            class1_var_val = class1[i][1]\n",
    "            x_val = x_test[i]\n",
    "            prob = gnd(x_val, class1_mean_val, class1_var_val)\n",
    "            prob_lis.append([prob])\n",
    "    prob_arr = np.array(prob_lis)\n",
    "    prob_arr = np.split(prob_arr, n_classes)\n",
    "    # print(prob_arr)\n",
    "\n",
    "    # Calculating the posterior probability\n",
    "    posterior_prob = []\n",
    "    for i in range(1,len(prob_arr)+1):\n",
    "        prob = np.prod(prob_arr[i-1])*prior_prob[i]\n",
    "        posterior_prob.append(prob)\n",
    "    \n",
    "    return posterior_prob\n",
    "    \n",
    "    \n",
    "\n"
   ]
  },
  {
   "cell_type": "code",
   "execution_count": 148,
   "id": "2ef2b4a2",
   "metadata": {},
   "outputs": [],
   "source": [
    "def class_pred(X_test,y_test, mean_var, prior_prob, classes):\n",
    "    X_test = np.array(X_test)\n",
    "    y_pred = []\n",
    "    for x in X_test:\n",
    "        # print(x)\n",
    "        posterior_probab = gnd_helper(mean_var, x, prior_prob, classes)\n",
    "        class_pred = find_class(posterior_probab, classes)\n",
    "        y_pred.append(class_pred)\n",
    "    # Calculating the accuracy\n",
    "    y_test = np.array(y_test)\n",
    "    y_pred = np.array(y_pred)\n",
    "\n",
    "    global y_pred_test_global\n",
    "    y_pred_test_global = y_pred\n",
    "\n",
    "    accuracy = (np.sum(y_test == y_pred)/len(y_test))*100\n",
    "    print(\"Accuracy: \", accuracy)\n"
   ]
  },
  {
   "cell_type": "code",
   "execution_count": 149,
   "id": "765cbabe",
   "metadata": {},
   "outputs": [],
   "source": [
    "def predict(X, Y):\n",
    "    # x = [-37,-59,-57,-43,-73,-65,-66]\n",
    "    classes = np.unique(Y)\n",
    "    X_train, X_test, y_train, y_test = train_test_split(X, Y, test_size=0.25, random_state=42)\n",
    "    mean_var = calculate_mean_var(X_train,y_train)\n",
    "    prior_prob = prior_probab(y_train)\n",
    "\n",
    "    return X_train, X_test, y_train, y_test, mean_var, prior_prob, classes\n",
    "    \n",
    "    \n",
    "    \n",
    "    "
   ]
  },
  {
   "cell_type": "code",
   "execution_count": 150,
   "id": "42806ee1",
   "metadata": {},
   "outputs": [],
   "source": [
    "def posterior_compute(X_test,y_test, mean_var, prior_prob, classes):\n",
    "    X_test = np.array(X_test)\n",
    "    # y_pred = []\n",
    "    posterior_probab_lis = []\n",
    "    for x in X_test:\n",
    "        posterior_probab = gnd_helper(mean_var, x, prior_prob, classes)\n",
    "        posterior_probab_lis.append(posterior_probab)\n",
    "    return posterior_probab_lis"
   ]
  },
  {
   "cell_type": "code",
   "execution_count": 151,
   "id": "201d65a9",
   "metadata": {},
   "outputs": [],
   "source": [
    "def class_wise_prob_compute(prob_lis,i):\n",
    "    prob = []\n",
    "    for probab in prob_lis:\n",
    "        prob.append(probab[i])\n",
    "    return prob"
   ]
  },
  {
   "cell_type": "code",
   "execution_count": 152,
   "id": "3fa5b2fe",
   "metadata": {},
   "outputs": [],
   "source": [
    "def plot_pdf(X_test,y_test, mean_var, prior_prob, classes):\n",
    "    prob_lis = posterior_compute(X_test,y_test, mean_var, prior_prob, classes)\n",
    "    class1_probab_lis = class_wise_prob_compute(prob_lis,0)\n",
    "    class2_probab_lis = class_wise_prob_compute(prob_lis,1)\n",
    "    class3_probab_lis = class_wise_prob_compute(prob_lis,2)\n",
    "    class4_probab_lis = class_wise_prob_compute(prob_lis,3)\n",
    "    class_probs = [class1_probab_lis,class2_probab_lis,class3_probab_lis,class4_probab_lis]\n",
    "    pdf = []\n",
    "    for i in range(len(class_probs)):\n",
    "        pdf.append(sum(class_probs[i])/len(class_probs[i]))\n",
    "    plt.plot(pdf)\n",
    "    plt.show()"
   ]
  },
  {
   "cell_type": "markdown",
   "id": "2ae1dd54-f718-424c-81ef-ba3a25dd09ef",
   "metadata": {},
   "source": [
    "### Load Data\n",
    "\n",
    "The data has been loaded onto a Pandas DataFrame. Try to get an initial feel for the data by using functions like `describe()`, `info()`, or maybe try to plot the data to check for any patterns.\n",
    "\n",
    "Note: To obtain the data from the UCI website, `wget` can be used followed by shuffling the samples using `shuf` and adding a header for easier reading via `pandas`. It is not necessary to view the data in a DataFrame and can be directly loaded onto NumPy as convenient."
   ]
  },
  {
   "cell_type": "code",
   "execution_count": 153,
   "id": "e64cdf6e-dc06-45f1-b770-8b8e61f267eb",
   "metadata": {},
   "outputs": [],
   "source": [
    "data = pd.read_csv('wifiLocalization.txt', sep='\\t')"
   ]
  },
  {
   "cell_type": "code",
   "execution_count": 154,
   "id": "f3a0a3dd-cb25-426d-bfed-d0c075aea95d",
   "metadata": {},
   "outputs": [],
   "source": [
    "# your code here\n",
    "X = data[['ws1','ws2','ws3','ws4','ws5','ws6','ws7']]\n",
    "Y = data['r']"
   ]
  },
  {
   "cell_type": "markdown",
   "id": "c708f659-b930-4219-b8d4-46fffc843fb0",
   "metadata": {},
   "source": [
    "### Splitting the Data\n",
    "\n",
    "It is a good practice to split the data into training and test sets. This is to ensure that the model is not overfitting to the training data. The test set is used to evaluate the performance of the model on unseen data. The test set is not used to train the model in any way. The test set is only used to evaluate the performance of the model. You may use the `train_test_split` function from `sklearn.model_selection` to split the data into training and test sets.\n",
    "\n",
    "It is a good idea to move your data to NumPy arrays now as it will make computing easier."
   ]
  },
  {
   "cell_type": "code",
   "execution_count": 155,
   "id": "527e95e0-cf05-467a-9144-36664968277a",
   "metadata": {},
   "outputs": [],
   "source": [
    "# your code here\n",
    "# X_train, X_test, y_train, y_test = train_test_split(X, Y, test_size=0.25, random_state=42)"
   ]
  },
  {
   "attachments": {},
   "cell_type": "markdown",
   "id": "d125bb9f",
   "metadata": {},
   "source": [
    "## Classification"
   ]
  },
  {
   "cell_type": "code",
   "execution_count": 156,
   "id": "6cdd0fc6",
   "metadata": {},
   "outputs": [],
   "source": [
    "X_train, X_test, y_train, y_test, mean_var, prior_prob, classes = predict(X,Y)"
   ]
  },
  {
   "attachments": {},
   "cell_type": "markdown",
   "id": "c84e4e40-8ef7-4958-a6c3-2bd606c716fc",
   "metadata": {},
   "source": [
    "### Experiments\n",
    "\n",
    "1. Estimate your model on the training data.\n",
    "2. Plot the Gaussian probability density functions for each class after estimation.\n",
    "3. Classify the test data using your model.\n",
    "4. Pick a few samples from the test set that were misclassified and plot them along with the Gaussian probability density functions for each class. What do you observe?\n",
    "5. Find if there are any features that are redundant. If so, remove them and repeat the experiments. How does the performance change?\n",
    "6. Conversely, are there certain features that overpower the likelihood scores independently? Test this hypothesis empirically by only using hat/those feature(s) and repeating the experiments. How does the performance change?\n",
    "7. Compare your results with the `scikit-learn` implementation. You can use the `GaussianNB` class from `sklearn.naive_bayes`. You can use the `score` function to get the accuracy of the model on the test set.\n",
    "8. (Optional) Try other Naïve Bayes classifiers from [`sklearn.naive_bayes`](https://scikit-learn.org/stable/modules/classes.html#module-sklearn.naive_bayes) and compare the results."
   ]
  },
  {
   "cell_type": "code",
   "execution_count": 157,
   "id": "e111bee3",
   "metadata": {},
   "outputs": [],
   "source": [
    "def calculate_mean_var_cls(X,prob_lis):\n",
    "\n",
    "    prob_lis = np.array(prob_lis)\n",
    "    prob_lis = np.argmax(prob_lis, axis=1)\n",
    "    \n",
    "    X = np.array(X)\n",
    "    X = X.mean(axis=1)\n",
    "    print(X.shape)\n",
    "    X_lis = []\n",
    "    mean_lis = []\n",
    "    var_lis = []\n",
    "\n",
    "    for i in range(4):\n",
    "        X1 = X[prob_lis == i]\n",
    "        mean = X1.mean()\n",
    "        var = X1.var()\n",
    "        X_lis.append(X1)\n",
    "        mean_lis.append(mean)\n",
    "        var_lis.append(var)\n",
    "\n",
    "  \n",
    "    return X_lis,mean_lis, var_lis\n"
   ]
  },
  {
   "cell_type": "code",
   "execution_count": 158,
   "id": "01078276",
   "metadata": {},
   "outputs": [
    {
     "name": "stdout",
     "output_type": "stream",
     "text": [
      "(500,)\n"
     ]
    },
    {
     "data": {
      "image/png": "[encoded data removed]",
      "text/plain": [
       "<Figure size 432x288 with 1 Axes>"
      ]
     },
     "metadata": {
      "needs_background": "light"
     },
     "output_type": "display_data"
    }
   ],
   "source": [
    "from scipy.stats import norm\n",
    "prob_lis = posterior_compute(X_test,y_test, mean_var, prior_prob, classes)\n",
    "X_lis, mean_cls, var_cls = calculate_mean_var_cls(X_test,prob_lis)\n",
    "\n",
    "\n",
    "X_lis[0] = np.sort(X_lis[0])\n",
    "X_lis[1] = np.sort(X_lis[1])\n",
    "X_lis[2] = np.sort(X_lis[2])\n",
    "X_lis[3] = np.sort(X_lis[3])\n",
    "\n",
    "\n",
    "# print(X_lis[0].shape)\n",
    "# print(X_lis[1].shape)\n",
    "\n",
    "\n",
    "\n",
    "plt.plot(X_lis[0], norm.pdf(X_lis[0], mean_cls[1], var_cls[1]))\n",
    "plt.plot(X_lis[1], norm.pdf(X_lis[1], mean_cls[1], var_cls[1]))\n",
    "plt.plot(X_lis[2], norm.pdf(X_lis[2], mean_cls[2], var_cls[2]))\n",
    "plt.plot(X_lis[3], norm.pdf(X_lis[3], mean_cls[3], var_cls[3]))\n",
    "plt.legend(['Class 1', 'Class 2', 'Class 3', 'Class 4'])\n",
    "plt.show()\n",
    "\n",
    "\n",
    "\n"
   ]
  },
  {
   "cell_type": "code",
   "execution_count": 159,
   "id": "98c17baa-7cba-4a85-867b-96778eb9dcb9",
   "metadata": {},
   "outputs": [
    {
     "name": "stdout",
     "output_type": "stream",
     "text": [
      "For Training Data\n",
      "Accuracy:  98.33333333333333\n"
     ]
    }
   ],
   "source": [
    "# your code here\n",
    "print(\"For Training Data\")\n",
    "class_pred(X_train,y_train, mean_var, prior_prob, classes)\n",
    "# plot_pdf(X_train,y_train, mean_var, prior_prob, classes)\n"
   ]
  },
  {
   "cell_type": "code",
   "execution_count": 160,
   "id": "6a9470d9",
   "metadata": {},
   "outputs": [
    {
     "name": "stdout",
     "output_type": "stream",
     "text": [
      "For Testing Data\n",
      "Accuracy:  98.2\n"
     ]
    }
   ],
   "source": [
    "print(\"For Testing Data\")\n",
    "class_pred(X_test,y_test, mean_var, prior_prob, classes)\n"
   ]
  },
  {
   "attachments": {},
   "cell_type": "markdown",
   "id": "85644c1e",
   "metadata": {},
   "source": [
    "Identifying the mis predicted Sample"
   ]
  },
  {
   "cell_type": "code",
   "execution_count": 161,
   "id": "d0e0bef3",
   "metadata": {},
   "outputs": [],
   "source": [
    "type(y_pred_test_global)\n",
    "y_test1 = np.array(y_test)\n",
    "# Find index where y_test1 and y_pred_test_global are not equal\n",
    "index = np.where(y_test1 != y_pred_test_global)\n",
    "# print(type(X_test))\n",
    "x_test_wp = []\n",
    "\n",
    "\n",
    "\n",
    "# print(index)\n",
    "for i in index:\n",
    "    x_test_wp.append(X_test.iloc[i].values)\n",
    "x_test_wp = np.array(x_test_wp)\n",
    "\n",
    "# print(x_test_wp[0])\n",
    "x_test_wp = x_test_wp[0]\n",
    "\n",
    "x_test_wp = np.array(x_test_wp)\n",
    "\n",
    "x_mean_val = x_test_wp.mean(axis=1)\n",
    "# print(x_mean_val)\n",
    "\n",
    "# print(y_pred_test_global[index])\n",
    "# print(y_test1[index])\n",
    "\n"
   ]
  },
  {
   "cell_type": "code",
   "execution_count": 162,
   "id": "a5b8ef7e",
   "metadata": {},
   "outputs": [],
   "source": [
    "def plot_mis_clf(mis_clf_x):\n",
    "    prob_lis = posterior_compute(X_test,y_test, mean_var, prior_prob, classes)\n",
    "    X_lis, mean_cls, var_cls = calculate_mean_var_cls(X_test,prob_lis)\n",
    "\n",
    "\n",
    "    X_lis[0] = np.sort(X_lis[0])\n",
    "    X_lis[1] = np.sort(X_lis[1])\n",
    "    X_lis[2] = np.sort(X_lis[2])\n",
    "    X_lis[3] = np.sort(X_lis[3])\n",
    "\n",
    "\n",
    "    # print(X_lis[0].shape)\n",
    "    # print(X_lis[1].shape)\n",
    "\n",
    "    fig = plt.figure()\n",
    "\n",
    "\n",
    "    plt.plot(X_lis[0], norm.pdf(X_lis[0], mean_cls[1], var_cls[1]))\n",
    "    plt.plot(X_lis[1], norm.pdf(X_lis[1], mean_cls[1], var_cls[1]))\n",
    "    plt.plot(X_lis[2], norm.pdf(X_lis[2], mean_cls[2], var_cls[2]))\n",
    "    plt.plot(X_lis[3], norm.pdf(X_lis[3], mean_cls[3], var_cls[3]))\n",
    "    plt.axvline(x = mis_clf_x, color = 'b', label = 'Mis-Classified')\n",
    "    plt.legend(['Class 1', 'Class 2', 'Class 3', 'Class 4'])\n",
    "    plt.show()\n",
    "    return fig\n"
   ]
  },
  {
   "cell_type": "code",
   "execution_count": 163,
   "id": "52f02c6f",
   "metadata": {},
   "outputs": [
    {
     "name": "stdout",
     "output_type": "stream",
     "text": [
      "(500,)\n"
     ]
    },
    {
     "data": {
      "image/png": "[encoded data removed]",
      "text/plain": [
       "<Figure size 432x288 with 1 Axes>"
      ]
     },
     "metadata": {
      "needs_background": "light"
     },
     "output_type": "display_data"
    },
    {
     "name": "stdout",
     "output_type": "stream",
     "text": [
      "Actual Class =  3\n",
      "Predicted Class =  4\n"
     ]
    }
   ],
   "source": [
    "fig1 = plot_mis_clf(x_mean_val[0])\n",
    "print(\"Actual Class = \",y_test1[index][0]+1)\n",
    "print(\"Predicted Class = \",y_pred_test_global[index][0]+1)\n"
   ]
  },
  {
   "cell_type": "code",
   "execution_count": 164,
   "id": "1060c26b",
   "metadata": {},
   "outputs": [
    {
     "name": "stdout",
     "output_type": "stream",
     "text": [
      "(500,)\n"
     ]
    },
    {
     "data": {
      "image/png": "[encoded data removed]",
      "text/plain": [
       "<Figure size 432x288 with 1 Axes>"
      ]
     },
     "metadata": {
      "needs_background": "light"
     },
     "output_type": "display_data"
    },
    {
     "name": "stdout",
     "output_type": "stream",
     "text": [
      "Actual Class =  3\n",
      "Predicted Class =  4\n"
     ]
    }
   ],
   "source": [
    "fig1 = plot_mis_clf(x_mean_val[1])\n",
    "print(\"Actual Class = \",y_test1[index][0]+1)\n",
    "print(\"Predicted Class = \",y_pred_test_global[index][0]+1)"
   ]
  },
  {
   "cell_type": "code",
   "execution_count": 165,
   "id": "96f20e76",
   "metadata": {},
   "outputs": [
    {
     "name": "stdout",
     "output_type": "stream",
     "text": [
      "Accuracy:  98.2\n"
     ]
    }
   ],
   "source": [
    "# Comparison with sklearn\n",
    "from sklearn.naive_bayes import GaussianNB\n",
    "gnb = GaussianNB()\n",
    "gnb.fit(X_train, y_train)\n",
    "y_pred = gnb.predict(X_test)\n",
    "print(\"Accuracy: \", (np.sum(y_test == y_pred)/len(y_test))*100)"
   ]
  },
  {
   "attachments": {},
   "cell_type": "markdown",
   "id": "27c0cc77",
   "metadata": {},
   "source": [
    "### Covariance Matrix"
   ]
  },
  {
   "cell_type": "code",
   "execution_count": 166,
   "id": "126fa54c",
   "metadata": {},
   "outputs": [
    {
     "name": "stdout",
     "output_type": "stream",
     "text": [
      "(1500, 7)\n",
      "(8, 8)\n"
     ]
    }
   ],
   "source": [
    "print(X_train.shape)\n",
    "# x_train_arr_t = np.transpose(np.array(X_train))\n",
    "x_train_arr_t = (np.array(X_train))\n",
    "# print(x_train_arr_t.shape)\n",
    "# print(type(x_train_arr_t))\n",
    "x_train_df = pd.DataFrame(x_train_arr_t, columns = ['ws1','ws2','ws3', 'ws4', 'ws5', 'ws6', 'ws7'])\n",
    "x_train_df.head()\n",
    "\n",
    "y_train_df = pd.DataFrame(y_train, columns = ['r'])\n",
    "\n",
    "df = x_train_df.join(y_train_df['r'])\n",
    "df = df.dropna()\n",
    "df.head()\n",
    "\n",
    "\n",
    "data_arr = np.transpose(np.array(df))\n",
    "\n",
    "\n",
    "cov_matrix = np.cov(data_arr, bias=True)\n",
    "print(cov_matrix.shape)\n",
    "df1 = pd.DataFrame(cov_matrix, columns = ['ws1','ws2','ws3', 'ws4', 'ws5', 'ws6', 'ws7','r'], index = ['ws1','ws2','ws3', 'ws4', 'ws5', 'ws6', 'ws7','r'])\n",
    "# df1"
   ]
  },
  {
   "attachments": {},
   "cell_type": "markdown",
   "id": "1f22874d",
   "metadata": {},
   "source": [
    "Now as we can see that the features are not independent of each other, and ws1 and ws4 are highly correlated. Hence we can use any one of the feature but we will drop ws4 as it is more correlated with the class label."
   ]
  },
  {
   "cell_type": "code",
   "execution_count": 167,
   "id": "62530d18",
   "metadata": {},
   "outputs": [],
   "source": [
    "def expermient(X1, Y1, col_name):\n",
    "    X1 = X1.drop(col_name, axis='columns')\n",
    "    X_train1, X_test1, y_train1, y_test1 = train_test_split(X1, Y1, test_size=0.25, random_state=42) \n",
    "    gnb = GaussianNB()\n",
    "    gnb.fit(X_train1, y_train1)\n",
    "    y_pred1 = gnb.predict(X_test1)\n",
    "    print(\"Accuracy after dropping\",col_name,\"is\", (np.sum(y_test1 == y_pred1)/len(y_test1))*100)\n"
   ]
  },
  {
   "attachments": {},
   "cell_type": "markdown",
   "id": "dc565bae",
   "metadata": {},
   "source": [
    "We can see that the accuracy remained same after dropping ws4.But instead if we woud have dropped ws1 then the accuracy would have decreased."
   ]
  },
  {
   "cell_type": "code",
   "execution_count": 168,
   "id": "9ce6c482",
   "metadata": {},
   "outputs": [
    {
     "name": "stdout",
     "output_type": "stream",
     "text": [
      "Accuracy after dropping ws1 is 96.8\n",
      "Accuracy after dropping ws4 is 98.2\n"
     ]
    }
   ],
   "source": [
    "expermient(X, Y, 'ws1')\n",
    "expermient(X, Y, 'ws4')"
   ]
  },
  {
   "cell_type": "code",
   "execution_count": null,
   "id": "580dc3e7",
   "metadata": {},
   "outputs": [],
   "source": []
  }
 ],
 "metadata": {
  "kernelspec": {
   "display_name": "Python 3",
   "language": "python",
   "name": "python3"
  },
  "language_info": {
   "codemirror_mode": {
    "name": "ipython",
    "version": 3
   },
   "file_extension": ".py",
   "mimetype": "text/x-python",
   "name": "python",
   "nbconvert_exporter": "python",
   "pygments_lexer": "ipython3",
   "version": "3.10.6"
  },
  "vscode": {
   "interpreter": {
    "hash": "916dbcbb3f70747c44a77c7bcd40155683ae19c65e1c03b4aa3499c5328201f1"
   }
  }
 },
 "nbformat": 4,
 "nbformat_minor": 5
}
