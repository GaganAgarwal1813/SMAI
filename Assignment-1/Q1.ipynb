{
  "cells": [
    {
      "cell_type": "markdown",
      "metadata": {
        "id": "NSd3vc8oPt3b"
      },
      "source": [
        "# Assignment 1\n",
        "## Question `1` (K-Nearest Neighbour)\n",
        "\n",
        "| | |\n",
        "|-|-|\n",
        "| Course | Statistical Methods in AI |\n",
        "| Release Date | `19.01.2023` |\n",
        "| Due Date | `29.01.2023` |\n",
        "\n",
        "### Instructions:\n",
        "1.   Assignment must be implemented using python notebook only (Colab , VsCode , Jupyter etc.)\n",
        "2.   You are allowed to use libraries for data preprocessing (numpy, pandas, nltk etc) and for algorithms as well (sklearn etc). You are not however allowed to directly use classifier models.\n",
        "3.   The performance of the model will hold weightage but you will also be graded largely for data preprocessing steps , explanations , feature selection for vectors etc.\n",
        "4.   Strict plagiarism checking will be done. An F will be awarded for plagiarism.\n",
        "\n",
        "### The Dataset\n",
        "The dataset is avaible in the zip file which is a collection of *11099 tweets*. The data will be in the form of a csv file. The ground truth is also given in the zip file which corresponds to whether a tweet was popular or not. Since the task involves selecting features yourself to vectorize a tweet , we suggest some data analysis of the columns you consider important.\n",
        "<br><br>\n",
        "\n",
        "### The Task\n",
        "You have to build a classifier which can predict the popularity of the tweet, i.e , if the tweet was popular or not. You are required to use **KNN** algorithm to build the classifier and cannot use any inbuilt classifier. All columns are supposed to be analyzed , filtered and preprocessed to determine its importance as a feature in the vector for every tweet (Not every column will be useful).<br>\n",
        "The Data contains the **raw text of the tweet**(in the text column) as well as other **meta data** like likes count , user followers count. Note that it might be useful to **create new columns** with useful information. For example, *number of hashtags* might be useful but is not directly present as a column.<br>\n",
        "There are 3 main sub parts:\n",
        "1. *Vectorize tweets using only meta data* - likes , user followers count , and other created data\n",
        "2. *Vectorize tweets using only it's text*. This segment will require NLP techniques to clean the text and extract a vector using a BoW model. Here is a useful link for the same - [Tf-Idf](https://towardsdatascience.com/text-vectorization-term-frequency-inverse-document-frequency-tfidf-5a3f9604da6d). Since these vectors will be very large , we recommend reducing their dimensinality (~10 - 25). Hint: [Dimentionality Reduction](https://jonathan-hui.medium.com/machine-learning-singular-value-decomposition-svd-principal-component-analysis-pca-1d45e885e491). Please note that for this also you are allowed to use libraries.\n",
        "\n",
        "3. *Combining the vectors from above two techinques to create one bigger vector*\n",
        "<br>\n",
        "\n",
        "\n",
        "Using KNN on these vectors build a classifier to predict the popularity of the tweet and report accuracies on each of the three methods as well as analysis. You can use sklearn's Nearest Neighbors and need not write KNN from scratch. (However you cannot use the classifier directly). You are expected to try the classifier for different number of neighbors and identify the optimal K value."
      ]
    },
    {
      "cell_type": "markdown",
      "metadata": {
        "id": "0LJvylX8680U"
      },
      "source": [
        "## Import necessary libraries"
      ]
    },
    {
      "cell_type": "code",
      "execution_count": null,
      "metadata": {
        "id": "UrD1GJ6-YA5M",
        "colab": {
          "base_uri": "https://localhost:8080/"
        },
        "outputId": "31af3b4e-9b5e-4d51-dba4-4110086b35cd"
      },
      "outputs": [
        {
          "output_type": "stream",
          "name": "stderr",
          "text": [
            "[nltk_data] Downloading package punkt to /root/nltk_data...\n",
            "[nltk_data]   Package punkt is already up-to-date!\n",
            "[nltk_data] Downloading package stopwords to /root/nltk_data...\n",
            "[nltk_data]   Package stopwords is already up-to-date!\n",
            "[nltk_data] Downloading package wordnet to /root/nltk_data...\n",
            "[nltk_data]   Package wordnet is already up-to-date!\n",
            "[nltk_data] Downloading package omw-1.4 to /root/nltk_data...\n",
            "[nltk_data]   Package omw-1.4 is already up-to-date!\n"
          ]
        }
      ],
      "source": [
        "import pandas as pd\n",
        "import numpy as np\n",
        "import json\n",
        "import nltk\n",
        "nltk.download('punkt')\n",
        "nltk.download('stopwords')\n",
        "nltk.download('wordnet')\n",
        "nltk.download('omw-1.4')\n",
        "from nltk.tokenize import word_tokenize\n",
        "from nltk.tokenize import RegexpTokenizer\n",
        "from nltk.stem import WordNetLemmatizer,PorterStemmer\n",
        "from nltk.corpus import stopwords\n",
        "import re\n",
        "import heapq\n",
        "from sklearn.decomposition import PCA\n",
        "from sklearn import model_selection\n",
        "from sklearn.metrics import DistanceMetric\n",
        "from sklearn.metrics.pairwise import euclidean_distances\n",
        "from sklearn.preprocessing import StandardScaler\n",
        "from sklearn.metrics import accuracy_score\n",
        "from sklearn.feature_extraction.text import TfidfVectorizer\n"
      ]
    },
    {
      "cell_type": "markdown",
      "metadata": {
        "id": "eoakVIVW7EOT"
      },
      "source": [
        "## Load and display the data"
      ]
    },
    {
      "cell_type": "code",
      "execution_count": null,
      "metadata": {
        "id": "YRwXxW4WwEL8"
      },
      "outputs": [],
      "source": [
        "lemmatizer = WordNetLemmatizer()\n",
        "stemmer = PorterStemmer() "
      ]
    },
    {
      "cell_type": "code",
      "execution_count": null,
      "metadata": {
        "id": "WAH13731wPS5",
        "colab": {
          "base_uri": "https://localhost:8080/",
          "height": 73
        },
        "outputId": "8daa87f5-af6d-4cdc-e27c-d92726561ad5"
      },
      "outputs": [
        {
          "output_type": "display_data",
          "data": {
            "text/plain": [
              "<IPython.core.display.HTML object>"
            ],
            "text/html": [
              "\n",
              "     <input type=\"file\" id=\"files-46c6ed07-75c7-4be5-9d68-3c5dc1f6003e\" name=\"files[]\" multiple disabled\n",
              "        style=\"border:none\" />\n",
              "     <output id=\"result-46c6ed07-75c7-4be5-9d68-3c5dc1f6003e\">\n",
              "      Upload widget is only available when the cell has been executed in the\n",
              "      current browser session. Please rerun this cell to enable.\n",
              "      </output>\n",
              "      <script>// Copyright 2017 Google LLC\n",
              "//\n",
              "// Licensed under the Apache License, Version 2.0 (the \"License\");\n",
              "// you may not use this file except in compliance with the License.\n",
              "// You may obtain a copy of the License at\n",
              "//\n",
              "//      http://www.apache.org/licenses/LICENSE-2.0\n",
              "//\n",
              "// Unless required by applicable law or agreed to in writing, software\n",
              "// distributed under the License is distributed on an \"AS IS\" BASIS,\n",
              "// WITHOUT WARRANTIES OR CONDITIONS OF ANY KIND, either express or implied.\n",
              "// See the License for the specific language governing permissions and\n",
              "// limitations under the License.\n",
              "\n",
              "/**\n",
              " * @fileoverview Helpers for google.colab Python module.\n",
              " */\n",
              "(function(scope) {\n",
              "function span(text, styleAttributes = {}) {\n",
              "  const element = document.createElement('span');\n",
              "  element.textContent = text;\n",
              "  for (const key of Object.keys(styleAttributes)) {\n",
              "    element.style[key] = styleAttributes[key];\n",
              "  }\n",
              "  return element;\n",
              "}\n",
              "\n",
              "// Max number of bytes which will be uploaded at a time.\n",
              "const MAX_PAYLOAD_SIZE = 100 * 1024;\n",
              "\n",
              "function _uploadFiles(inputId, outputId) {\n",
              "  const steps = uploadFilesStep(inputId, outputId);\n",
              "  const outputElement = document.getElementById(outputId);\n",
              "  // Cache steps on the outputElement to make it available for the next call\n",
              "  // to uploadFilesContinue from Python.\n",
              "  outputElement.steps = steps;\n",
              "\n",
              "  return _uploadFilesContinue(outputId);\n",
              "}\n",
              "\n",
              "// This is roughly an async generator (not supported in the browser yet),\n",
              "// where there are multiple asynchronous steps and the Python side is going\n",
              "// to poll for completion of each step.\n",
              "// This uses a Promise to block the python side on completion of each step,\n",
              "// then passes the result of the previous step as the input to the next step.\n",
              "function _uploadFilesContinue(outputId) {\n",
              "  const outputElement = document.getElementById(outputId);\n",
              "  const steps = outputElement.steps;\n",
              "\n",
              "  const next = steps.next(outputElement.lastPromiseValue);\n",
              "  return Promise.resolve(next.value.promise).then((value) => {\n",
              "    // Cache the last promise value to make it available to the next\n",
              "    // step of the generator.\n",
              "    outputElement.lastPromiseValue = value;\n",
              "    return next.value.response;\n",
              "  });\n",
              "}\n",
              "\n",
              "/**\n",
              " * Generator function which is called between each async step of the upload\n",
              " * process.\n",
              " * @param {string} inputId Element ID of the input file picker element.\n",
              " * @param {string} outputId Element ID of the output display.\n",
              " * @return {!Iterable<!Object>} Iterable of next steps.\n",
              " */\n",
              "function* uploadFilesStep(inputId, outputId) {\n",
              "  const inputElement = document.getElementById(inputId);\n",
              "  inputElement.disabled = false;\n",
              "\n",
              "  const outputElement = document.getElementById(outputId);\n",
              "  outputElement.innerHTML = '';\n",
              "\n",
              "  const pickedPromise = new Promise((resolve) => {\n",
              "    inputElement.addEventListener('change', (e) => {\n",
              "      resolve(e.target.files);\n",
              "    });\n",
              "  });\n",
              "\n",
              "  const cancel = document.createElement('button');\n",
              "  inputElement.parentElement.appendChild(cancel);\n",
              "  cancel.textContent = 'Cancel upload';\n",
              "  const cancelPromise = new Promise((resolve) => {\n",
              "    cancel.onclick = () => {\n",
              "      resolve(null);\n",
              "    };\n",
              "  });\n",
              "\n",
              "  // Wait for the user to pick the files.\n",
              "  const files = yield {\n",
              "    promise: Promise.race([pickedPromise, cancelPromise]),\n",
              "    response: {\n",
              "      action: 'starting',\n",
              "    }\n",
              "  };\n",
              "\n",
              "  cancel.remove();\n",
              "\n",
              "  // Disable the input element since further picks are not allowed.\n",
              "  inputElement.disabled = true;\n",
              "\n",
              "  if (!files) {\n",
              "    return {\n",
              "      response: {\n",
              "        action: 'complete',\n",
              "      }\n",
              "    };\n",
              "  }\n",
              "\n",
              "  for (const file of files) {\n",
              "    const li = document.createElement('li');\n",
              "    li.append(span(file.name, {fontWeight: 'bold'}));\n",
              "    li.append(span(\n",
              "        `(${file.type || 'n/a'}) - ${file.size} bytes, ` +\n",
              "        `last modified: ${\n",
              "            file.lastModifiedDate ? file.lastModifiedDate.toLocaleDateString() :\n",
              "                                    'n/a'} - `));\n",
              "    const percent = span('0% done');\n",
              "    li.appendChild(percent);\n",
              "\n",
              "    outputElement.appendChild(li);\n",
              "\n",
              "    const fileDataPromise = new Promise((resolve) => {\n",
              "      const reader = new FileReader();\n",
              "      reader.onload = (e) => {\n",
              "        resolve(e.target.result);\n",
              "      };\n",
              "      reader.readAsArrayBuffer(file);\n",
              "    });\n",
              "    // Wait for the data to be ready.\n",
              "    let fileData = yield {\n",
              "      promise: fileDataPromise,\n",
              "      response: {\n",
              "        action: 'continue',\n",
              "      }\n",
              "    };\n",
              "\n",
              "    // Use a chunked sending to avoid message size limits. See b/62115660.\n",
              "    let position = 0;\n",
              "    do {\n",
              "      const length = Math.min(fileData.byteLength - position, MAX_PAYLOAD_SIZE);\n",
              "      const chunk = new Uint8Array(fileData, position, length);\n",
              "      position += length;\n",
              "\n",
              "      const base64 = btoa(String.fromCharCode.apply(null, chunk));\n",
              "      yield {\n",
              "        response: {\n",
              "          action: 'append',\n",
              "          file: file.name,\n",
              "          data: base64,\n",
              "        },\n",
              "      };\n",
              "\n",
              "      let percentDone = fileData.byteLength === 0 ?\n",
              "          100 :\n",
              "          Math.round((position / fileData.byteLength) * 100);\n",
              "      percent.textContent = `${percentDone}% done`;\n",
              "\n",
              "    } while (position < fileData.byteLength);\n",
              "  }\n",
              "\n",
              "  // All done.\n",
              "  yield {\n",
              "    response: {\n",
              "      action: 'complete',\n",
              "    }\n",
              "  };\n",
              "}\n",
              "\n",
              "scope.google = scope.google || {};\n",
              "scope.google.colab = scope.google.colab || {};\n",
              "scope.google.colab._files = {\n",
              "  _uploadFiles,\n",
              "  _uploadFilesContinue,\n",
              "};\n",
              "})(self);\n",
              "</script> "
            ]
          },
          "metadata": {}
        },
        {
          "output_type": "stream",
          "name": "stdout",
          "text": [
            "Saving Tweets.csv to Tweets.csv\n"
          ]
        }
      ],
      "source": [
        "from google.colab import files\n",
        "uploaded = files.upload()\n",
        "tweet_df = pd.read_csv('Tweets.csv')"
      ]
    },
    {
      "cell_type": "code",
      "source": [
        "uploaded = files.upload()\n",
        "result = pd.read_csv('ground_truth.csv', names = ['result'])"
      ],
      "metadata": {
        "id": "sP9YY1mk255t",
        "colab": {
          "base_uri": "https://localhost:8080/",
          "height": 73
        },
        "outputId": "def3b969-7717-4253-b127-86dbc5b1ce12"
      },
      "execution_count": null,
      "outputs": [
        {
          "output_type": "display_data",
          "data": {
            "text/plain": [
              "<IPython.core.display.HTML object>"
            ],
            "text/html": [
              "\n",
              "     <input type=\"file\" id=\"files-c282a871-d465-485c-add0-0f91a0eff6b4\" name=\"files[]\" multiple disabled\n",
              "        style=\"border:none\" />\n",
              "     <output id=\"result-c282a871-d465-485c-add0-0f91a0eff6b4\">\n",
              "      Upload widget is only available when the cell has been executed in the\n",
              "      current browser session. Please rerun this cell to enable.\n",
              "      </output>\n",
              "      <script>// Copyright 2017 Google LLC\n",
              "//\n",
              "// Licensed under the Apache License, Version 2.0 (the \"License\");\n",
              "// you may not use this file except in compliance with the License.\n",
              "// You may obtain a copy of the License at\n",
              "//\n",
              "//      http://www.apache.org/licenses/LICENSE-2.0\n",
              "//\n",
              "// Unless required by applicable law or agreed to in writing, software\n",
              "// distributed under the License is distributed on an \"AS IS\" BASIS,\n",
              "// WITHOUT WARRANTIES OR CONDITIONS OF ANY KIND, either express or implied.\n",
              "// See the License for the specific language governing permissions and\n",
              "// limitations under the License.\n",
              "\n",
              "/**\n",
              " * @fileoverview Helpers for google.colab Python module.\n",
              " */\n",
              "(function(scope) {\n",
              "function span(text, styleAttributes = {}) {\n",
              "  const element = document.createElement('span');\n",
              "  element.textContent = text;\n",
              "  for (const key of Object.keys(styleAttributes)) {\n",
              "    element.style[key] = styleAttributes[key];\n",
              "  }\n",
              "  return element;\n",
              "}\n",
              "\n",
              "// Max number of bytes which will be uploaded at a time.\n",
              "const MAX_PAYLOAD_SIZE = 100 * 1024;\n",
              "\n",
              "function _uploadFiles(inputId, outputId) {\n",
              "  const steps = uploadFilesStep(inputId, outputId);\n",
              "  const outputElement = document.getElementById(outputId);\n",
              "  // Cache steps on the outputElement to make it available for the next call\n",
              "  // to uploadFilesContinue from Python.\n",
              "  outputElement.steps = steps;\n",
              "\n",
              "  return _uploadFilesContinue(outputId);\n",
              "}\n",
              "\n",
              "// This is roughly an async generator (not supported in the browser yet),\n",
              "// where there are multiple asynchronous steps and the Python side is going\n",
              "// to poll for completion of each step.\n",
              "// This uses a Promise to block the python side on completion of each step,\n",
              "// then passes the result of the previous step as the input to the next step.\n",
              "function _uploadFilesContinue(outputId) {\n",
              "  const outputElement = document.getElementById(outputId);\n",
              "  const steps = outputElement.steps;\n",
              "\n",
              "  const next = steps.next(outputElement.lastPromiseValue);\n",
              "  return Promise.resolve(next.value.promise).then((value) => {\n",
              "    // Cache the last promise value to make it available to the next\n",
              "    // step of the generator.\n",
              "    outputElement.lastPromiseValue = value;\n",
              "    return next.value.response;\n",
              "  });\n",
              "}\n",
              "\n",
              "/**\n",
              " * Generator function which is called between each async step of the upload\n",
              " * process.\n",
              " * @param {string} inputId Element ID of the input file picker element.\n",
              " * @param {string} outputId Element ID of the output display.\n",
              " * @return {!Iterable<!Object>} Iterable of next steps.\n",
              " */\n",
              "function* uploadFilesStep(inputId, outputId) {\n",
              "  const inputElement = document.getElementById(inputId);\n",
              "  inputElement.disabled = false;\n",
              "\n",
              "  const outputElement = document.getElementById(outputId);\n",
              "  outputElement.innerHTML = '';\n",
              "\n",
              "  const pickedPromise = new Promise((resolve) => {\n",
              "    inputElement.addEventListener('change', (e) => {\n",
              "      resolve(e.target.files);\n",
              "    });\n",
              "  });\n",
              "\n",
              "  const cancel = document.createElement('button');\n",
              "  inputElement.parentElement.appendChild(cancel);\n",
              "  cancel.textContent = 'Cancel upload';\n",
              "  const cancelPromise = new Promise((resolve) => {\n",
              "    cancel.onclick = () => {\n",
              "      resolve(null);\n",
              "    };\n",
              "  });\n",
              "\n",
              "  // Wait for the user to pick the files.\n",
              "  const files = yield {\n",
              "    promise: Promise.race([pickedPromise, cancelPromise]),\n",
              "    response: {\n",
              "      action: 'starting',\n",
              "    }\n",
              "  };\n",
              "\n",
              "  cancel.remove();\n",
              "\n",
              "  // Disable the input element since further picks are not allowed.\n",
              "  inputElement.disabled = true;\n",
              "\n",
              "  if (!files) {\n",
              "    return {\n",
              "      response: {\n",
              "        action: 'complete',\n",
              "      }\n",
              "    };\n",
              "  }\n",
              "\n",
              "  for (const file of files) {\n",
              "    const li = document.createElement('li');\n",
              "    li.append(span(file.name, {fontWeight: 'bold'}));\n",
              "    li.append(span(\n",
              "        `(${file.type || 'n/a'}) - ${file.size} bytes, ` +\n",
              "        `last modified: ${\n",
              "            file.lastModifiedDate ? file.lastModifiedDate.toLocaleDateString() :\n",
              "                                    'n/a'} - `));\n",
              "    const percent = span('0% done');\n",
              "    li.appendChild(percent);\n",
              "\n",
              "    outputElement.appendChild(li);\n",
              "\n",
              "    const fileDataPromise = new Promise((resolve) => {\n",
              "      const reader = new FileReader();\n",
              "      reader.onload = (e) => {\n",
              "        resolve(e.target.result);\n",
              "      };\n",
              "      reader.readAsArrayBuffer(file);\n",
              "    });\n",
              "    // Wait for the data to be ready.\n",
              "    let fileData = yield {\n",
              "      promise: fileDataPromise,\n",
              "      response: {\n",
              "        action: 'continue',\n",
              "      }\n",
              "    };\n",
              "\n",
              "    // Use a chunked sending to avoid message size limits. See b/62115660.\n",
              "    let position = 0;\n",
              "    do {\n",
              "      const length = Math.min(fileData.byteLength - position, MAX_PAYLOAD_SIZE);\n",
              "      const chunk = new Uint8Array(fileData, position, length);\n",
              "      position += length;\n",
              "\n",
              "      const base64 = btoa(String.fromCharCode.apply(null, chunk));\n",
              "      yield {\n",
              "        response: {\n",
              "          action: 'append',\n",
              "          file: file.name,\n",
              "          data: base64,\n",
              "        },\n",
              "      };\n",
              "\n",
              "      let percentDone = fileData.byteLength === 0 ?\n",
              "          100 :\n",
              "          Math.round((position / fileData.byteLength) * 100);\n",
              "      percent.textContent = `${percentDone}% done`;\n",
              "\n",
              "    } while (position < fileData.byteLength);\n",
              "  }\n",
              "\n",
              "  // All done.\n",
              "  yield {\n",
              "    response: {\n",
              "      action: 'complete',\n",
              "    }\n",
              "  };\n",
              "}\n",
              "\n",
              "scope.google = scope.google || {};\n",
              "scope.google.colab = scope.google.colab || {};\n",
              "scope.google.colab._files = {\n",
              "  _uploadFiles,\n",
              "  _uploadFilesContinue,\n",
              "};\n",
              "})(self);\n",
              "</script> "
            ]
          },
          "metadata": {}
        },
        {
          "output_type": "stream",
          "name": "stdout",
          "text": [
            "Saving ground_truth.csv to ground_truth.csv\n"
          ]
        }
      ]
    },
    {
      "cell_type": "markdown",
      "metadata": {
        "id": "ywNXO3TpwQkV"
      },
      "source": [
        "## Exploratory Data Analysis\n",
        "*This is an ungraded section but is recommended to get a good grasp on the dataset*"
      ]
    },
    {
      "cell_type": "markdown",
      "metadata": {
        "id": "Mztyk9Kew7q1"
      },
      "source": [
        "## Part-1\n",
        "*Vectorize tweets using only meta data*"
      ]
    },
    {
      "cell_type": "code",
      "source": [
        "def euclidean(p1,p2):\n",
        "    dist = np.sqrt(np.sum((p1-p2)**2))\n",
        "    return dist"
      ],
      "metadata": {
        "id": "lBadVI_63szF"
      },
      "execution_count": null,
      "outputs": []
    },
    {
      "cell_type": "code",
      "source": [
        "from itertools import chain\n",
        "def predict_output(x_train, x_test,y_train, k):\n",
        "  x_train_numpy = x_train.values\n",
        "  x_test_numpy = x_test.values\n",
        "  y_train_numpy = y_train.values\n",
        "  op_labels = []\n",
        "  i = 0\n",
        "  for test_point in x_test_numpy:\n",
        "    # print(test_point)\n",
        "    point_dist = []\n",
        "    for train_point in x_train_numpy:\n",
        "      distance = euclidean(train_point, test_point)\n",
        "      point_dist.append(distance)\n",
        "    point_dist = np.array(point_dist) \n",
        "    if(i % 1000 == 0):\n",
        "      print(\"Data Point = \",i)\n",
        "    i = i + 1\n",
        "    dist = np.argsort(point_dist)[:k] \n",
        "    labels = y_train_numpy[dist]\n",
        "    labels = list(chain.from_iterable(labels))\n",
        "    op_labels.append(np.bincount(labels).argmax())\n",
        "  return op_labels"
      ],
      "metadata": {
        "id": "ZaSuzKon3-wG"
      },
      "execution_count": null,
      "outputs": []
    },
    {
      "cell_type": "code",
      "execution_count": null,
      "metadata": {
        "id": "y-rDkUtVxQph"
      },
      "outputs": [],
      "source": [
        "def get_features():\n",
        "  \"\"\"\n",
        "  Funtion to return a matrix of dimensions (number of tweets, number of chosen features)\n",
        "  Input parameters to this funcion are to be chosen as per requirement (Example: Loaded dataframe of the dataset) \n",
        "  \"\"\"\n",
        "  meta_data_columns = ['retweet_count', 'favorite_count', 'user_followers_count', 'user_friends_count', 'user_listed_count', 'user_favourites_count','user_verified', 'user_statuses_count']\n",
        "  meta_data = tweet_df[meta_data_columns]\n",
        "  meta_data['user_verified'] = meta_data['user_verified'].astype(int)\n",
        "  meta_data['retweet_count'] = meta_data['retweet_count'].astype(int)\n",
        "\n",
        "  # Feature Scaling\n",
        "  scaler = StandardScaler()\n",
        "  meta_data_arr = scaler.fit_transform(meta_data)\n",
        "  meta_data = pd.DataFrame(meta_data_arr, columns = meta_data_columns)\n",
        "\n",
        "  return meta_data, meta_data_columns\n",
        "  # your code here"
      ]
    },
    {
      "cell_type": "code",
      "source": [
        "def split_meta_data():\n",
        "  meta_data, meta_data_columns = get_features()\n",
        "  X = meta_data[meta_data_columns]\n",
        "  Y = result\n",
        "  x_train, x_test, y_train, y_test = model_selection.train_test_split(X, Y)\n",
        "  return x_train, x_test, y_train, y_test"
      ],
      "metadata": {
        "id": "cOaaFg0z3Kz9"
      },
      "execution_count": null,
      "outputs": []
    },
    {
      "cell_type": "code",
      "source": [
        "x_train, x_test, y_train, y_test = split_meta_data()\n",
        "predictions1 = predict_output(x_train, x_test, y_train, 3)\n",
        "predictions2 = predict_output(x_train, x_test, y_train, 5)\n",
        "predictions3 = predict_output(x_train, x_test, y_train, 7)\n",
        "predictions4 = predict_output(x_train, x_test, y_train, 9)\n",
        "predictions5 = predict_output(x_train, x_test, y_train, 11)\n",
        "# accuracy_score(y_test, predictions)"
      ],
      "metadata": {
        "id": "F_vkLJgV3l9F",
        "colab": {
          "base_uri": "https://localhost:8080/"
        },
        "outputId": "571c482d-85af-46ef-be3d-4e5a43f6d94b"
      },
      "execution_count": null,
      "outputs": [
        {
          "output_type": "stream",
          "name": "stderr",
          "text": [
            "<ipython-input-10-b43ecbb21798>:8: SettingWithCopyWarning: \n",
            "A value is trying to be set on a copy of a slice from a DataFrame.\n",
            "Try using .loc[row_indexer,col_indexer] = value instead\n",
            "\n",
            "See the caveats in the documentation: https://pandas.pydata.org/pandas-docs/stable/user_guide/indexing.html#returning-a-view-versus-a-copy\n",
            "  meta_data['user_verified'] = meta_data['user_verified'].astype(int)\n",
            "<ipython-input-10-b43ecbb21798>:9: SettingWithCopyWarning: \n",
            "A value is trying to be set on a copy of a slice from a DataFrame.\n",
            "Try using .loc[row_indexer,col_indexer] = value instead\n",
            "\n",
            "See the caveats in the documentation: https://pandas.pydata.org/pandas-docs/stable/user_guide/indexing.html#returning-a-view-versus-a-copy\n",
            "  meta_data['retweet_count'] = meta_data['retweet_count'].astype(int)\n"
          ]
        },
        {
          "output_type": "stream",
          "name": "stdout",
          "text": [
            "Data Point =  0\n",
            "Data Point =  1000\n",
            "Data Point =  2000\n",
            "Data Point =  0\n",
            "Data Point =  1000\n",
            "Data Point =  2000\n",
            "Data Point =  0\n",
            "Data Point =  1000\n",
            "Data Point =  2000\n",
            "Data Point =  0\n",
            "Data Point =  1000\n",
            "Data Point =  2000\n",
            "Data Point =  0\n",
            "Data Point =  1000\n",
            "Data Point =  2000\n"
          ]
        }
      ]
    },
    {
      "cell_type": "code",
      "source": [
        "from sklearn.metrics import confusion_matrix\n",
        "cm = confusion_matrix(y_test, predictions1)\n",
        "cm"
      ],
      "metadata": {
        "colab": {
          "base_uri": "https://localhost:8080/"
        },
        "id": "ZSTVCurGOUFA",
        "outputId": "57a1cb15-32b9-4563-fd5b-8ffab73ed668"
      },
      "execution_count": null,
      "outputs": [
        {
          "output_type": "execute_result",
          "data": {
            "text/plain": [
              "array([[2512,   42],\n",
              "       [  66,  155]])"
            ]
          },
          "metadata": {},
          "execution_count": 14
        }
      ]
    },
    {
      "cell_type": "code",
      "source": [
        "acc_lis = [accuracy_score(y_test, predictions1),\n",
        "accuracy_score(y_test, predictions2),\n",
        "accuracy_score(y_test, predictions3),\n",
        "accuracy_score(y_test, predictions4),\n",
        "accuracy_score(y_test, predictions5)]\n",
        "k_lis = [3,5,7,9,11]"
      ],
      "metadata": {
        "id": "EGtFKvU0OXad"
      },
      "execution_count": null,
      "outputs": []
    },
    {
      "cell_type": "code",
      "source": [
        "import matplotlib.pyplot as plt\n",
        "plt.scatter(acc_lis, k_lis)"
      ],
      "metadata": {
        "colab": {
          "base_uri": "https://localhost:8080/",
          "height": 282
        },
        "id": "LQg9XX7WXsTS",
        "outputId": "5f535ca9-50b1-4487-9280-c39b5c457f0a"
      },
      "execution_count": null,
      "outputs": [
        {
          "output_type": "execute_result",
          "data": {
            "text/plain": [
              "<matplotlib.collections.PathCollection at 0x7f086b333c10>"
            ]
          },
          "metadata": {},
          "execution_count": 16
        },
        {
          "output_type": "display_data",
          "data": {
            "text/plain": [
              "<Figure size 432x288 with 1 Axes>"
            ],
            "image/png": "[encoded data removed]"
          },
          "metadata": {
            "needs_background": "light"
          }
        }
      ]
    },
    {
      "cell_type": "markdown",
      "metadata": {
        "id": "4K7Fzh5Q4wrV"
      },
      "source": [
        "Perform KNN using the vector obtained from get_features() function. Following are the steps to be followed:\n",
        "1. Normalise the vectors\n",
        "2. Split the data into training and test to estimate the performance.\n",
        "3. Fit the Nearest Neughbiurs module to the training data and obtain the predicted class by getting the nearest neighbours on the test data.\n",
        "4. Report the accuracy, chosen k-value and method used to obtain the predicted class. Hint: Plot accuracies for a range of k-values. "
      ]
    },
    {
      "cell_type": "code",
      "execution_count": null,
      "metadata": {
        "id": "EBHGbdsi4fe-"
      },
      "outputs": [],
      "source": [
        "# your code here"
      ]
    },
    {
      "cell_type": "markdown",
      "metadata": {
        "id": "vSufXze8zmV3"
      },
      "source": [
        "## Part-2\n",
        "Vectorize tweets based on the text. More details and reference links can be checked on the Tasks list in the start of the notebook"
      ]
    },
    {
      "cell_type": "code",
      "source": [
        "def pre_process(sentence):\n",
        "  sentence=str(sentence)\n",
        "  sentence = sentence.lower()\n",
        "  cleanr = re.compile('<.*?>')\n",
        "  cleantext = re.sub(cleanr, '', sentence)\n",
        "  rem_url=re.sub(r'http\\S+', '',cleantext)\n",
        "  rem_num = re.sub('[0-9]+', '', rem_url)\n",
        "  tokenizer = RegexpTokenizer(r'\\w+')\n",
        "  tokens = tokenizer.tokenize(rem_num)  \n",
        "  filtered_words = [w for w in tokens if len(w) > 2 if not w in stopwords.words('english')]\n",
        "  lemma_words=[lemmatizer.lemmatize(w) for w in filtered_words]\n",
        "  return ' '.join(lemma_words)"
      ],
      "metadata": {
        "id": "yGSlrcQu-A9U"
      },
      "execution_count": null,
      "outputs": []
    },
    {
      "cell_type": "code",
      "source": [
        "def inbuilt_tf_idf(tweets_text_df):\n",
        "  tweets_text_df = tweets_text_df.apply(pre_process)\n",
        "  tweets_text_df = tweets_text_df.to_frame(name=\"text\")\n",
        "  tf_idf = TfidfVectorizer()\n",
        "  tf_idf_mat_inbuilt = tf_idf.fit_transform(tweets_text_df['text'])\n",
        "  # a = tf_idf_mat_inbuilt.toarray()\n",
        "  # tf_idf_mat_inbuilt_df = pd.DataFrame(tf_idf_mat_inbuilt)\n",
        "  return tf_idf_mat_inbuilt"
      ],
      "metadata": {
        "id": "5HOkWC_25QPd"
      },
      "execution_count": null,
      "outputs": []
    },
    {
      "cell_type": "code",
      "source": [
        "from sklearn.model_selection import train_test_split\n",
        "def tf_idf_split(tf_idf_df):\n",
        "  Y = result\n",
        "  X = tf_idf_df\n",
        "  # x_train, x_test, y_train, y_test = train_test_split(X, Y, test_size=0.2, random_state=42)\n",
        "  x_train, x_test, y_train, y_test = model_selection.train_test_split(X, Y)\n",
        "  return x_train, x_test, y_train, y_test"
      ],
      "metadata": {
        "id": "s739uQ70GRrg"
      },
      "execution_count": null,
      "outputs": []
    },
    {
      "cell_type": "code",
      "source": [
        "tweets_text_df= tweet_df['text'] \n",
        "tf_idf_df = inbuilt_tf_idf(tweets_text_df)\n",
        "# tf_idf_df.info()"
      ],
      "metadata": {
        "id": "6md1BKA6-z0L"
      },
      "execution_count": null,
      "outputs": []
    },
    {
      "cell_type": "code",
      "source": [
        "# tf_idf_df.head()\n",
        "type(tf_idf_df)\n"
      ],
      "metadata": {
        "colab": {
          "base_uri": "https://localhost:8080/"
        },
        "id": "T-bohlVm_Tl3",
        "outputId": "1c793c8c-5011-45ec-90c2-2d44ecea7876"
      },
      "execution_count": null,
      "outputs": [
        {
          "output_type": "execute_result",
          "data": {
            "text/plain": [
              "scipy.sparse.csr.csr_matrix"
            ]
          },
          "metadata": {},
          "execution_count": 22
        }
      ]
    },
    {
      "cell_type": "code",
      "source": [
        "from sklearn.decomposition import PCA\n",
        "pca = PCA(n_components=150, random_state = 42)\n",
        "tf_idf_pca = pca.fit_transform(tf_idf_df.toarray())\n",
        "\n",
        "# accuracy_score(y_test, predictions)"
      ],
      "metadata": {
        "id": "4kIgfxQ1Il_V"
      },
      "execution_count": null,
      "outputs": []
    },
    {
      "cell_type": "code",
      "source": [
        "x_train, x_test, y_train, y_test = tf_idf_split(tf_idf_pca)\n"
      ],
      "metadata": {
        "id": "z_bcqjAhmqzw"
      },
      "execution_count": null,
      "outputs": []
    },
    {
      "cell_type": "code",
      "source": [
        "x_train = pd.DataFrame(x_train)\n",
        "x_test = pd.DataFrame(x_test)"
      ],
      "metadata": {
        "id": "5R1ioyYMng1u"
      },
      "execution_count": null,
      "outputs": []
    },
    {
      "cell_type": "code",
      "source": [
        "print(type(x_train))\n",
        "print(type(x_test))\n",
        "print(type(y_train))\n",
        "print(type(y_test))"
      ],
      "metadata": {
        "colab": {
          "base_uri": "https://localhost:8080/"
        },
        "id": "ZMhq74hnoRCA",
        "outputId": "35b92a25-ae7d-4cc8-abb4-c66ad0ebb32b"
      },
      "execution_count": null,
      "outputs": [
        {
          "output_type": "stream",
          "name": "stdout",
          "text": [
            "<class 'pandas.core.frame.DataFrame'>\n",
            "<class 'pandas.core.frame.DataFrame'>\n",
            "<class 'pandas.core.frame.DataFrame'>\n",
            "<class 'pandas.core.frame.DataFrame'>\n"
          ]
        }
      ]
    },
    {
      "cell_type": "code",
      "source": [
        "predictions1 = predict_output(x_train, x_test, y_train, 3)\n",
        "predictions2 = predict_output(x_train, x_test, y_train, 5)\n",
        "predictions3 = predict_output(x_train, x_test, y_train, 7)\n",
        "predictions4 = predict_output(x_train, x_test, y_train, 9)\n",
        "predictions5 = predict_output(x_train, x_test, y_train, 11)\n",
        "# predictions.shape()"
      ],
      "metadata": {
        "colab": {
          "base_uri": "https://localhost:8080/"
        },
        "id": "zKMuC56hnR1e",
        "outputId": "d49df935-86d3-4398-97a2-cb4dba1281b6"
      },
      "execution_count": null,
      "outputs": [
        {
          "output_type": "stream",
          "name": "stdout",
          "text": [
            "Data Point =  0\n",
            "Data Point =  1000\n",
            "Data Point =  2000\n",
            "Data Point =  0\n",
            "Data Point =  1000\n",
            "Data Point =  2000\n",
            "Data Point =  0\n",
            "Data Point =  1000\n",
            "Data Point =  2000\n",
            "Data Point =  0\n",
            "Data Point =  1000\n",
            "Data Point =  2000\n",
            "Data Point =  0\n",
            "Data Point =  1000\n",
            "Data Point =  2000\n"
          ]
        }
      ]
    },
    {
      "cell_type": "code",
      "source": [
        "acc_lis = [accuracy_score(y_test, predictions1),\n",
        "accuracy_score(y_test, predictions2),\n",
        "accuracy_score(y_test, predictions3),\n",
        "accuracy_score(y_test, predictions4),\n",
        "accuracy_score(y_test, predictions5)]\n",
        "k_lis = [3,5,7,9,11]"
      ],
      "metadata": {
        "id": "onGUfod-A2bZ"
      },
      "execution_count": null,
      "outputs": []
    },
    {
      "cell_type": "code",
      "source": [
        "plt.scatter(acc_lis, k_lis)"
      ],
      "metadata": {
        "colab": {
          "base_uri": "https://localhost:8080/",
          "height": 282
        },
        "id": "hTi26o5kYEax",
        "outputId": "76f371ee-a4d5-463b-e43e-373a78039d68"
      },
      "execution_count": null,
      "outputs": [
        {
          "output_type": "execute_result",
          "data": {
            "text/plain": [
              "<matplotlib.collections.PathCollection at 0x7f08667e8ee0>"
            ]
          },
          "metadata": {},
          "execution_count": 29
        },
        {
          "output_type": "display_data",
          "data": {
            "text/plain": [
              "<Figure size 432x288 with 1 Axes>"
            ],
            "image/png": "[encoded data removed]"
          },
          "metadata": {
            "needs_background": "light"
          }
        }
      ]
    },
    {
      "cell_type": "code",
      "execution_count": null,
      "metadata": {
        "id": "GBizLGhg0kQT"
      },
      "outputs": [],
      "source": [
        "def tweet_vectoriser():\n",
        "  \"\"\"\n",
        "  Funtion to return a matrix of dimensions (number of tweets, number of features extracted per tweet)\n",
        "  Following are the steps for be followed:\n",
        "    1. Remove links, tags and hashtags from each tweet.\n",
        "    2. Apply TF-IDF on the tweets to extract a vector. \n",
        "    3. Perform dimensionality reduction on the obtained vector. \n",
        "  Input parameters to this funcion are to be chosen as per requirement (Example: Array of tweets) \n",
        "  \"\"\"\n",
        "  # your code here"
      ]
    },
    {
      "cell_type": "markdown",
      "source": [],
      "metadata": {
        "id": "JVJ7Wxp4A0Er"
      }
    },
    {
      "cell_type": "markdown",
      "metadata": {
        "id": "3Q47SVkv9VzO"
      },
      "source": [
        "Perform KNN using the vector obtained from tweet_vectoriser() function. Following are the steps to be followed:\n",
        "\n",
        "1. Normalise the vectors\n",
        "2. Split the data into training and test to estimate the performance.\n",
        "3. Fit the Nearest Neughbiurs module to the training data and obtain the predicted class by getting the nearest neighbours on the test data.\n",
        "4. Report the accuracy, chosen k-value and method used to obtain the predicted class. Hint: Plot accuracies for a range of k-values."
      ]
    },
    {
      "cell_type": "code",
      "execution_count": null,
      "metadata": {
        "id": "7aDr7vAW-NX_"
      },
      "outputs": [],
      "source": [
        "# your code here"
      ]
    },
    {
      "cell_type": "markdown",
      "metadata": {
        "id": "Rg7hD8-O3PbO"
      },
      "source": [
        "## Part-3\n",
        "### Subpart-1"
      ]
    },
    {
      "cell_type": "markdown",
      "metadata": {
        "id": "Bp9TVeVD9lKe"
      },
      "source": [
        "Combine both the vectors obtained from the tweet_vectoriser() and get_features()"
      ]
    },
    {
      "cell_type": "code",
      "execution_count": null,
      "metadata": {
        "id": "r5ksyj7_3_xl",
        "colab": {
          "base_uri": "https://localhost:8080/"
        },
        "outputId": "33f601db-545c-4090-b9e8-b9301d39e661"
      },
      "outputs": [
        {
          "output_type": "stream",
          "name": "stderr",
          "text": [
            "<ipython-input-10-b43ecbb21798>:8: SettingWithCopyWarning: \n",
            "A value is trying to be set on a copy of a slice from a DataFrame.\n",
            "Try using .loc[row_indexer,col_indexer] = value instead\n",
            "\n",
            "See the caveats in the documentation: https://pandas.pydata.org/pandas-docs/stable/user_guide/indexing.html#returning-a-view-versus-a-copy\n",
            "  meta_data['user_verified'] = meta_data['user_verified'].astype(int)\n",
            "<ipython-input-10-b43ecbb21798>:9: SettingWithCopyWarning: \n",
            "A value is trying to be set on a copy of a slice from a DataFrame.\n",
            "Try using .loc[row_indexer,col_indexer] = value instead\n",
            "\n",
            "See the caveats in the documentation: https://pandas.pydata.org/pandas-docs/stable/user_guide/indexing.html#returning-a-view-versus-a-copy\n",
            "  meta_data['retweet_count'] = meta_data['retweet_count'].astype(int)\n"
          ]
        }
      ],
      "source": [
        "# your code here\n",
        "meta_data, meta_data_columns = get_features()\n",
        "# dense_tf_idf_mat = tf_idf_df.toarray()\n",
        "dense_tf_idf_mat_df = pd.DataFrame(tf_idf_pca)\n",
        "Final_df_inbuilt = pd.concat([dense_tf_idf_mat_df, meta_data], axis=1)"
      ]
    },
    {
      "cell_type": "code",
      "source": [
        "x_train, x_test, y_train, y_test = tf_idf_split(Final_df_inbuilt)\n",
        "predictions1 = predict_output(x_train, x_test, y_train, 3)\n",
        "predictions2 = predict_output(x_train, x_test, y_train, 5)\n",
        "predictions3 = predict_output(x_train, x_test, y_train, 7)\n",
        "predictions4 = predict_output(x_train, x_test, y_train, 9)\n",
        "predictions5 = predict_output(x_train, x_test, y_train, 11)"
      ],
      "metadata": {
        "id": "UAZd1QtMd6hT",
        "colab": {
          "base_uri": "https://localhost:8080/"
        },
        "outputId": "4e3f72d2-ba27-49d4-c96e-9bcdec38c762"
      },
      "execution_count": null,
      "outputs": [
        {
          "output_type": "stream",
          "name": "stdout",
          "text": [
            "Data Point =  0\n",
            "Data Point =  1000\n",
            "Data Point =  2000\n",
            "Data Point =  0\n",
            "Data Point =  1000\n",
            "Data Point =  2000\n",
            "Data Point =  0\n",
            "Data Point =  1000\n",
            "Data Point =  2000\n",
            "Data Point =  0\n",
            "Data Point =  1000\n",
            "Data Point =  2000\n",
            "Data Point =  0\n",
            "Data Point =  1000\n",
            "Data Point =  2000\n"
          ]
        }
      ]
    },
    {
      "cell_type": "code",
      "source": [
        "acc_lis = [accuracy_score(y_test, predictions1),\n",
        "accuracy_score(y_test, predictions2),\n",
        "accuracy_score(y_test, predictions3),\n",
        "accuracy_score(y_test, predictions4),\n",
        "accuracy_score(y_test, predictions5)]\n",
        "k_lis = [3,5,7,9,11]"
      ],
      "metadata": {
        "id": "sMCqN_XjYQ4L"
      },
      "execution_count": null,
      "outputs": []
    },
    {
      "cell_type": "code",
      "source": [
        "plt.scatter(acc_lis, k_lis)"
      ],
      "metadata": {
        "colab": {
          "base_uri": "https://localhost:8080/",
          "height": 282
        },
        "id": "VDTd7uXhYSWU",
        "outputId": "ed81ef84-7f17-43d7-f1ff-d17f742993e5"
      },
      "execution_count": null,
      "outputs": [
        {
          "output_type": "execute_result",
          "data": {
            "text/plain": [
              "<matplotlib.collections.PathCollection at 0x7f0866c27940>"
            ]
          },
          "metadata": {},
          "execution_count": 35
        },
        {
          "output_type": "display_data",
          "data": {
            "text/plain": [
              "<Figure size 432x288 with 1 Axes>"
            ],
            "image/png": "[encoded data removed]"
          },
          "metadata": {
            "needs_background": "light"
          }
        }
      ]
    },
    {
      "cell_type": "markdown",
      "metadata": {
        "id": "swCD5Jp69xo5"
      },
      "source": [
        "Perform KNN using the vector obtained in the previous step. Following are the steps to be followed:\n",
        "\n",
        "1. Normalise the vectors\n",
        "2. Split the data into training and test to estimate the performance.\n",
        "3. Fit the Nearest Neughbiurs module to the training data and obtain the predicted class by getting the nearest neighbours on the test data.\n",
        "4. Report the accuracy, chosen k-value and method used to obtain the predicted class. Hint: Plot accuracies for a range of k-values."
      ]
    },
    {
      "cell_type": "code",
      "execution_count": null,
      "metadata": {
        "id": "rufknWgo4AvY"
      },
      "outputs": [],
      "source": [
        "# your code here"
      ]
    },
    {
      "cell_type": "markdown",
      "metadata": {
        "id": "1NVQLLhE3c79"
      },
      "source": [
        "### Subpart-2\n",
        "\n",
        "Explain the differences between the accuracies obtained in each part above based on the features used."
      ]
    },
    {
      "cell_type": "markdown",
      "metadata": {
        "id": "VkiTeqaE_4ic"
      },
      "source": [
        "```Accuracy with only Meta Data ``` :- <br>\n",
        "The accuracy obtained from using only the meta data is the highest. However when I tried to add extra fields to the meta data the accuracy was decreasing. <br>\n",
        "```Accuracy with only Tweet's Text ```:- <br>\n",
        "The accuracy obtained from using only the Tweet's Text is the lowest denoting that the ouput is not heavily relying on the Tweet's text.<br>\n",
        "```Accuracy using both Meta Data and Tweet's Text ```:- <br>\n",
        "The Accuracy in this case lies some where in between the both the above accuracies."
      ]
    },
    {
      "cell_type": "code",
      "source": [],
      "metadata": {
        "id": "Ck5jQsxGeVd3"
      },
      "execution_count": null,
      "outputs": []
    }
  ],
  "metadata": {
    "colab": {
      "provenance": []
    },
    "kernelspec": {
      "display_name": "Python 3",
      "language": "python",
      "name": "python3"
    },
    "language_info": {
      "codemirror_mode": {
        "name": "ipython",
        "version": 3
      },
      "file_extension": ".py",
      "mimetype": "text/x-python",
      "name": "python",
      "nbconvert_exporter": "python",
      "pygments_lexer": "ipython3",
      "version": "3.6.9"
    }
  },
  "nbformat": 4,
  "nbformat_minor": 0
}