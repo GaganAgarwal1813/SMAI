{
 "cells": [
  {
   "cell_type": "markdown",
   "id": "a736d316-20aa-4263-84c3-8afc5c4a9cc6",
   "metadata": {
    "jp-MarkdownHeadingCollapsed": true,
    "tags": []
   },
   "source": [
    "# SMAI Assignment - 3\n",
    "\n",
    "## Question - `3` : Knowing MLPs\n",
    "\n",
    "| | |\n",
    "|- | -|\n",
    "| Course | Statistical Methods in AI |\n",
    "| Release Date | `09.03.2023` |\n",
    "| Due Date | `24.03.2023` |"
   ]
  },
  {
   "cell_type": "markdown",
   "id": "1c86307a-7690-40cf-9eb2-e29fab7b15b5",
   "metadata": {
    "jp-MarkdownHeadingCollapsed": true,
    "tags": []
   },
   "source": [
    "## Please read the following before moving on\n",
    "\n",
    "Welcome to the world of Multilayer Perceptrons (MLP)! You already know that MLPs are feedforward neural networks consisting of multiple layers of nodes or neurons. These networks are well-suited for a wide range of classification and regression tasks, thanks to their ability to learn complex, non-linear relationships between inputs and outputs.\n",
    "\n",
    "In this assignment, we will be working with the MNIST dataset to explore the importance of different MLP components. The MNIST dataset consists of 70,000 handwritten digit images, each of which is 28x28 pixels in size. Our goal is to use an MLP to classify these images into one of 10 categories (0-9).\n",
    "\n",
    "To improve the performance of our MLP, we will experiment with various techniques such as Dropout, Batch Normalization, Loss Functions, Stochastic batch and mini-batch gradient descent, and more. Please note, you must use mini-batch unless explicity specified.\n",
    "\n",
    "In addition, we will experiment with different optimization algorithms such as stochastic gradient descent, Adam, and RMSprop to find the optimal weights and biases for our MLP. We will use stochastic batch and mini-batch gradient descent, which involve updating the weights and biases of the network based on a small batch of randomly sampled training examples, to speed up the training process and reduce memory usage.\n",
    "\n",
    "By the end of this assignment, you will have gained a deeper understanding of the various components that make up an MLP and their importance in achieving high performance in classification tasks. You will have gained hands-on experience in experimenting with these components and learned how to fine-tune an MLP to achieve the best possible performance on the MNIST dataset. So, let's get started!\n",
    "\n",
    "🫵Pro-tip: Do not re-write any results so as to re-use them in later experiments for tabulation and plotting.\n",
    "\n",
    "💭Trivia: Did you know code written using ChatGPT is easy to catch?"
   ]
  },
  {
   "cell_type": "markdown",
   "id": "436f25c4",
   "metadata": {
    "jp-MarkdownHeadingCollapsed": true,
    "tags": []
   },
   "source": [
    "### Step zero: Import Libraries"
   ]
  },
  {
   "cell_type": "code",
   "execution_count": 35,
   "id": "1009eb09",
   "metadata": {},
   "outputs": [],
   "source": [
    "import warnings\n",
    "warnings.filterwarnings(\"ignore\")\n",
    "\n",
    "import numpy as np\n",
    "import pandas as pd\n",
    "\n",
    "import matplotlib\n",
    "import seaborn as sns\n",
    "import matplotlib.pyplot as plt\n",
    "%matplotlib inline\n",
    "\n",
    "import torch\n",
    "import torchvision\n",
    "from torchvision import datasets\n",
    "from torchvision import transforms\n",
    "from sklearn.metrics import f1_score\n",
    "from torch.autograd import Variable\n",
    "import torch.optim.lr_scheduler as lr_scheduler\n",
    "\n",
    "import torch.nn as nn\n",
    "\n",
    "from tqdm.notebook import tqdm"
   ]
  },
  {
   "cell_type": "markdown",
   "id": "5e0546f0",
   "metadata": {
    "jp-MarkdownHeadingCollapsed": true,
    "tags": []
   },
   "source": [
    "### Step one: Using a PyTorch Dataset\n",
    "Load MNIST dataset from `torchvision.datasets`"
   ]
  },
  {
   "cell_type": "code",
   "execution_count": 36,
   "id": "4d54d14d",
   "metadata": {},
   "outputs": [],
   "source": [
    "transform = transforms.Compose([\n",
    "                    transforms.ToTensor(), \n",
    "            ])\n",
    "\n",
    "trainset = datasets.MNIST(\"\",train = True, download = True, transform = transform) #TODO use datasets.MNIST\n",
    "testset = datasets.MNIST(\"\",train = False, download = True, transform = transform) #TODO"
   ]
  },
  {
   "cell_type": "code",
   "execution_count": 37,
   "id": "db5bf20a",
   "metadata": {},
   "outputs": [],
   "source": [
    "trainloader_minibatch = torch.utils.data.DataLoader(trainset, batch_size=64\n",
    "                                                    , shuffle=True, num_workers=2)\n",
    "trainloader_stochastic = torch.utils.data.DataLoader(trainset, batch_size=1\n",
    "                                                     , shuffle=True, num_workers=2)\n",
    "testloader = torch.utils.data.DataLoader(testset, batch_size = 64, shuffle = True, num_workers = 2) #TODO"
   ]
  },
  {
   "cell_type": "code",
   "execution_count": 38,
   "id": "b6dd86f1",
   "metadata": {},
   "outputs": [
    {
     "name": "stdout",
     "output_type": "stream",
     "text": [
      "tensor(0)\n"
     ]
    },
    {
     "data": {
      "image/png": "[encoded data removed]",
      "text/plain": [
       "<Figure size 432x288 with 1 Axes>"
      ]
     },
     "metadata": {
      "needs_background": "light"
     },
     "output_type": "display_data"
    }
   ],
   "source": [
    "def visualise(img):\n",
    "    plt.imshow(img)\n",
    "\n",
    "for data in trainloader_minibatch:\n",
    "    print(data[1][2])  # 1 means label\n",
    "    visualise(data[0][2][0]) # 0 means image\n",
    "    # print()\n",
    "    break"
   ]
  },
  {
   "cell_type": "code",
   "execution_count": 39,
   "id": "179becdc",
   "metadata": {},
   "outputs": [
    {
     "data": {
      "application/vnd.jupyter.widget-view+json": {
       "model_id": "ea17b8f96a764da3a9e97a98dc8f39c9",
       "version_major": 2,
       "version_minor": 0
      },
      "text/plain": [
       "  0%|          | 0/938 [00:00<?, ?it/s]"
      ]
     },
     "metadata": {},
     "output_type": "display_data"
    },
    {
     "name": "stdout",
     "output_type": "stream",
     "text": [
      "0 torch.Size([64, 1, 28, 28]) torch.Size([64])\n"
     ]
    },
    {
     "data": {
      "text/plain": [
       "True"
      ]
     },
     "execution_count": 39,
     "metadata": {},
     "output_type": "execute_result"
    }
   ],
   "source": [
    "pbar = tqdm(total=len(trainloader_minibatch))\n",
    "for idx, (data,label) in enumerate(trainloader_minibatch):\n",
    "    print(idx,data.size(),label.size())\n",
    "    pbar.update(1)\n",
    "    break\n",
    "pbar.refresh()"
   ]
  },
  {
   "cell_type": "markdown",
   "id": "b25020e7",
   "metadata": {
    "jp-MarkdownHeadingCollapsed": true,
    "tags": []
   },
   "source": [
    "### Step two: Define a MLP Model and without any bells and whitsles...\n",
    "... along with a CrossEntropy loss criterion \n",
    "\n",
    "Do not use Dropout, BN or any other thing. Use ReLU for hidden layers.\n",
    "\n",
    "⚠️ Do not use SoftMax in the output as nn.CrossEntropyLoss combines SoftMax and NLLLoss."
   ]
  },
  {
   "cell_type": "code",
   "execution_count": 40,
   "id": "a49dc9a7",
   "metadata": {},
   "outputs": [],
   "source": [
    "class SimpleMLP(nn.Module):\n",
    "    def __init__(self):\n",
    "        super(SimpleMLP,self).__init__()\n",
    "        # code here\n",
    "        self.fc1 = nn.Linear(784, 128)\n",
    "        self.fc2 = nn.Linear(128, 64)\n",
    "        self.fc3 = nn.Linear(64, 10)\n",
    "    def forward(self,x):\n",
    "        # code here\n",
    "        x = x.view(x.size(0), -1) \n",
    "        x = torch.relu(self.fc1(x))\n",
    "        x = torch.relu(self.fc2(x))\n",
    "        x = self.fc3(x) # no activation since we use cross entropy loss\n",
    "        return x"
   ]
  },
  {
   "cell_type": "code",
   "execution_count": 41,
   "id": "d8176d0e",
   "metadata": {},
   "outputs": [],
   "source": [
    "model = SimpleMLP()\n",
    "loss_criteria = nn.CrossEntropyLoss()\n",
    "epoch_count = 5\n",
    "learning_rate = 0.001"
   ]
  },
  {
   "cell_type": "markdown",
   "id": "520e81eb",
   "metadata": {
    "jp-MarkdownHeadingCollapsed": true,
    "tags": []
   },
   "source": [
    "### Step three: Define the following optimizers using nn.optim\n",
    "1. SGD\n",
    "2. SGD with momentum\n",
    "3. SGD with L2 regularization\n",
    "4. RMSprop\n",
    "5. Adam"
   ]
  },
  {
   "cell_type": "code",
   "execution_count": 42,
   "id": "fa54db26",
   "metadata": {},
   "outputs": [],
   "source": [
    "def plot_loss(loss_list):\n",
    "    plt.plot(loss_list)\n",
    "    plt.xlabel(\"Epoch\")\n",
    "    plt.ylabel(\"Loss\")\n",
    "    plt.show()"
   ]
  },
  {
   "cell_type": "code",
   "execution_count": 43,
   "id": "8c185d80",
   "metadata": {},
   "outputs": [],
   "source": [
    "train_actual = []\n",
    "test_actual = []\n",
    "for batch in trainloader_minibatch:\n",
    "    train_actual.append(batch[1])\n",
    "for batch in testloader:\n",
    "    test_actual.append(batch[1])\n",
    "train_actual = torch.cat(train_actual)\n",
    "train_actual = train_actual.numpy()\n",
    "test_actual = torch.cat(test_actual)\n",
    "test_actual = test_actual.numpy()\n"
   ]
  },
  {
   "cell_type": "code",
   "execution_count": 45,
   "id": "7a9da931",
   "metadata": {},
   "outputs": [],
   "source": [
    "def train(model,loss_criteria, epoch_count, optimizer):\n",
    "    optimizer = optimizer\n",
    "    train_loss_per_optimizer = []\n",
    "    test_loss_per_optimizer = []\n",
    "\n",
    "    train_losses = []\n",
    "    test_losses = []\n",
    "    test_f1_scores = []\n",
    "\n",
    "    for _ in range(epoch_count):\n",
    "        model.train()\n",
    "        running_loss = 0.0\n",
    "        for i, data in enumerate(trainloader_minibatch, 0):\n",
    "            inputs, labels = data\n",
    "            optimizer.zero_grad() \n",
    "            outputs = model(inputs)\n",
    "            loss = loss_criteria(outputs, labels)\n",
    "            loss.backward()\n",
    "            optimizer.step()\n",
    "            running_loss += loss.item()\n",
    "\n",
    "        train_loss_per_optimizer.append(running_loss / len(trainloader_minibatch))\n",
    "\n",
    "        model.eval()\n",
    "        test_loss = 0.0\n",
    "        with torch.no_grad():\n",
    "            for inputs, labels in testloader:\n",
    "                outputs = model(inputs)\n",
    "                loss = loss_criteria(outputs, labels)\n",
    "                test_loss += loss.item()\n",
    "            test_loss /= len(testloader)\n",
    "            test_loss_per_optimizer.append(test_loss)\n",
    "    \n",
    "    total = 0\n",
    "    correct = 0\n",
    "    running_loss = 0.0\n",
    "    test_preds = []\n",
    "    test_targets = []\n",
    "    with torch.no_grad():\n",
    "        for data in testloader:\n",
    "            inputs, labels = data\n",
    "            outputs = model(inputs)\n",
    "            loss = loss_criteria(outputs, labels)\n",
    "            running_loss += loss.item()\n",
    "            _, predicted = torch.max(outputs.data, 1)\n",
    "            test_preds.extend(predicted.cpu().numpy())\n",
    "            test_targets.extend(labels.cpu().numpy())\n",
    "            total += labels.size(0)\n",
    "            correct += (predicted == labels).sum().item()\n",
    "            test_f1 = f1_score(test_targets, test_preds, average='macro')\n",
    "            test_f1_scores.append(test_f1)\n",
    "    test_loss_per_optimizer.append(running_loss / len(testloader))\n",
    "    train_losses.append(train_loss_per_optimizer)\n",
    "    test_losses.append(test_loss_per_optimizer)\n",
    "    \n",
    "    print(\"Optimizer:\", optimizer)\n",
    "    print(\"Test accuracy:\", 100 * correct / total)\n",
    "    print(\"Train loss:\", train_loss_per_optimizer[-1])\n",
    "    print(\"Test loss:\", test_loss_per_optimizer[-1])\n",
    "    print(\"F1 Score:\", test_f1_scores[-1])\n",
    "\n",
    "    return train_loss_per_optimizer, test_loss_per_optimizer, test_preds, test_targets, test_f1_scores"
   ]
  },
  {
   "attachments": {},
   "cell_type": "markdown",
   "id": "d8a9ca4e",
   "metadata": {},
   "source": [
    "SGD"
   ]
  },
  {
   "cell_type": "code",
   "execution_count": 30,
   "id": "78708d0c",
   "metadata": {},
   "outputs": [
    {
     "name": "stdout",
     "output_type": "stream",
     "text": [
      "Optimizer: SGD (\n",
      "Parameter Group 0\n",
      "    dampening: 0\n",
      "    differentiable: False\n",
      "    foreach: None\n",
      "    lr: 0.001\n",
      "    maximize: False\n",
      "    momentum: 0\n",
      "    nesterov: False\n",
      "    weight_decay: 0\n",
      ")\n",
      "Test accuracy: 60.75\n",
      "Train loss: 2.0418313646367365\n",
      "Test loss: 1.9590604229337851\n",
      "F1 Score: 0.5672409489957448\n"
     ]
    }
   ],
   "source": [
    "SGD_optimizer = torch.optim.SGD(model.parameters(), lr=learning_rate)\n",
    "SGD_trainLossPerEpoch, SGD_testLossPerEpoch, SGD_test_pred, SGD_test_target, SGD_test_f1  = train(model,loss_criteria, epoch_count, SGD_optimizer)"
   ]
  },
  {
   "cell_type": "code",
   "execution_count": 13,
   "id": "8d8cd153",
   "metadata": {},
   "outputs": [],
   "source": [
    "# plot_loss(trainLossPerEpoch)\n",
    "# plot_loss(testLossPerEpoch)"
   ]
  },
  {
   "attachments": {},
   "cell_type": "markdown",
   "id": "97f8ac84",
   "metadata": {},
   "source": [
    "SGD with momentum"
   ]
  },
  {
   "cell_type": "code",
   "execution_count": 14,
   "id": "9da9d876",
   "metadata": {},
   "outputs": [
    {
     "name": "stdout",
     "output_type": "stream",
     "text": [
      "Optimizer: SGD (\n",
      "Parameter Group 0\n",
      "    dampening: 0\n",
      "    differentiable: False\n",
      "    foreach: None\n",
      "    lr: 0.001\n",
      "    maximize: False\n",
      "    momentum: 0.9\n",
      "    nesterov: False\n",
      "    weight_decay: 0\n",
      ")\n",
      "Test accuracy: 91.5\n",
      "Train loss: 0.3103056299184431\n",
      "Test loss: 0.28842364076026683\n",
      "F1 Score: 0.913416215775697\n"
     ]
    }
   ],
   "source": [
    "SGDMomentum_optimizer = torch.optim.SGD(model.parameters(), lr=learning_rate, momentum=0.9)\n",
    "SGDMomentum_trainLossPerEpoch, SGDMomentum_testLossPerEpoch, SGDMomentum_test_pred, SGDMomemtum_test_target, SGDMomemtum_test_f1 = train(model,loss_criteria, epoch_count, SGDMomentum_optimizer)"
   ]
  },
  {
   "attachments": {},
   "cell_type": "markdown",
   "id": "b974b3e9",
   "metadata": {},
   "source": [
    "SGD with L2 regularization"
   ]
  },
  {
   "cell_type": "code",
   "execution_count": 15,
   "id": "649f618e",
   "metadata": {},
   "outputs": [
    {
     "name": "stdout",
     "output_type": "stream",
     "text": [
      "Optimizer: SGD (\n",
      "Parameter Group 0\n",
      "    dampening: 0\n",
      "    differentiable: False\n",
      "    foreach: None\n",
      "    lr: 0.001\n",
      "    maximize: False\n",
      "    momentum: 0\n",
      "    nesterov: False\n",
      "    weight_decay: 0.0001\n",
      ")\n",
      "Test accuracy: 92.13\n",
      "Train loss: 0.28659668882518435\n",
      "Test loss: 0.280096477099285\n",
      "F1 Score: 0.9199588944702995\n"
     ]
    }
   ],
   "source": [
    "SGDL2_optimizer = torch.optim.SGD(model.parameters(), lr=learning_rate, weight_decay=0.0001)\n",
    "SGDL2_trainLossPerEpoch, SGDL2_testLossPerEpoch, SGDL2_test_pred, SGDL2_test_target, SGDL2_test_f1 = train(model,loss_criteria, epoch_count, SGDL2_optimizer)"
   ]
  },
  {
   "attachments": {},
   "cell_type": "markdown",
   "id": "17ab6dd4",
   "metadata": {},
   "source": [
    "RMS Prop"
   ]
  },
  {
   "cell_type": "code",
   "execution_count": 16,
   "id": "252c2d38",
   "metadata": {},
   "outputs": [
    {
     "name": "stdout",
     "output_type": "stream",
     "text": [
      "Optimizer: RMSprop (\n",
      "Parameter Group 0\n",
      "    alpha: 0.99\n",
      "    centered: False\n",
      "    differentiable: False\n",
      "    eps: 1e-08\n",
      "    foreach: None\n",
      "    lr: 0.001\n",
      "    maximize: False\n",
      "    momentum: 0\n",
      "    weight_decay: 0\n",
      ")\n",
      "Test accuracy: 97.96\n",
      "Train loss: 0.04309302922224066\n",
      "Test loss: 0.06370823285216169\n",
      "F1 Score: 0.9794567987449115\n"
     ]
    }
   ],
   "source": [
    "RMS_optimizer = torch.optim.RMSprop(model.parameters(), lr=learning_rate)\n",
    "RMS_trainLossPerEpoch, RMS_testLossPerEpoch, RMS_test_pred, RMS_test_target, RMS_test_f1 = train(model,loss_criteria, epoch_count, RMS_optimizer)"
   ]
  },
  {
   "attachments": {},
   "cell_type": "markdown",
   "id": "ac3621b4",
   "metadata": {},
   "source": [
    "Adam Optimizer"
   ]
  },
  {
   "cell_type": "code",
   "execution_count": 46,
   "id": "717fa204",
   "metadata": {},
   "outputs": [
    {
     "name": "stdout",
     "output_type": "stream",
     "text": [
      "Optimizer: Adam (\n",
      "Parameter Group 0\n",
      "    amsgrad: False\n",
      "    betas: (0.9, 0.999)\n",
      "    capturable: False\n",
      "    differentiable: False\n",
      "    eps: 1e-08\n",
      "    foreach: None\n",
      "    fused: False\n",
      "    lr: 0.001\n",
      "    maximize: False\n",
      "    weight_decay: 0\n",
      ")\n",
      "Test accuracy: 97.36\n",
      "Train loss: 0.06084514077011147\n",
      "Test loss: 0.08408489205821115\n",
      "F1 Score: 0.9735321976748912\n"
     ]
    }
   ],
   "source": [
    "# code here\n",
    "adam_optimizer = torch.optim.Adam(model.parameters(), lr=learning_rate)\n",
    "Adam_trainLossPerEpoch, Adam_testLossPerEpoch, Adam_test_pred, Adam_test_target, Adam_test_f1 = train(model,loss_criteria, epoch_count, adam_optimizer)"
   ]
  },
  {
   "cell_type": "markdown",
   "id": "f5f0f6b8",
   "metadata": {
    "jp-MarkdownHeadingCollapsed": true,
    "tags": []
   },
   "source": [
    "### Step four: Run the SimpleMLP using different optimizers and plot train and test loss for each optimizer.\n",
    "Explain the results.\n",
    "\n",
    "Report final accuracy, F1 score and other relavant metrics in a tabular form on test and train datasets."
   ]
  },
  {
   "cell_type": "code",
   "execution_count": 33,
   "id": "cbdb2e27",
   "metadata": {},
   "outputs": [
    {
     "data": {
      "image/png": "[encoded data removed]",
      "text/plain": [
       "<Figure size 432x288 with 1 Axes>"
      ]
     },
     "metadata": {
      "needs_background": "light"
     },
     "output_type": "display_data"
    }
   ],
   "source": [
    "# code, plots and explainiation here\n",
    "epochs = range(1, epoch_count+1)\n",
    "f = plt.figure()\n",
    "f.set_figwidth(10)\n",
    "f.set_figheight(10)\n",
    "plt.plot(SGD_trainLossPerEpoch, 'r', label='SGD Train Loss')\n",
    "plt.plot(SGD_testLossPerEpoch, 'r--', label='SGD Test Loss')\n",
    "plt.plot(SGDMomentum_trainLossPerEpoch, 'b', label='SGD with Momentum')\n",
    "plt.plot(SGDMomentum_testLossPerEpoch, 'b--', label='SGD with Momentum Test Loss')\n",
    "plt.plot(SGDL2_trainLossPerEpoch, 'g', label='SGD with L2')\n",
    "plt.plot(SGDL2_testLossPerEpoch, 'g--', label='SGD with L2 Test Loss')\n",
    "plt.plot(RMS_trainLossPerEpoch, 'y', label='RMSprop')\n",
    "plt.plot(RMS_testLossPerEpoch, 'y--', label='RMSprop Test Loss')\n",
    "plt.plot(Adam_trainLossPerEpoch, 'c', label='Adam')\n",
    "plt.plot(Adam_testLossPerEpoch, 'c--', label='Adam Test Loss')\n",
    "plt.title('Training & Testing loss')\n",
    "plt.xlabel('Epochs')\n",
    "plt.ylabel('Loss')\n",
    "plt.legend()\n",
    "plt.show()\n"
   ]
  },
  {
   "attachments": {},
   "cell_type": "markdown",
   "id": "924eb2a6",
   "metadata": {},
   "source": [
    "***Observation***\n",
    ": SGD converges very slow but on adding Momemtum it converges fast for our data. SGD with regularization since prevents overfitting, it works well for our testing data. RMS Prop and Adam are performing quite better for our data and among them Adam is performing the best."
   ]
  },
  {
   "cell_type": "markdown",
   "id": "d09ffca0",
   "metadata": {
    "jp-MarkdownHeadingCollapsed": true,
    "tags": []
   },
   "source": [
    "### Step five: Using SimpleMLP and Adam optimizer, train models using 2 different lr_schedulers.\n",
    "Select 2 of **MultiplicativeLR**, **MultiStepLR**, **LinearLR** and **ExponentialLR**\n",
    "\n",
    "Compare the results among different LR schedulers and the original model which didn't employ any LR scheduler. Compile results in a tabular form. Plot losses for each. Explain results."
   ]
  },
  {
   "cell_type": "code",
   "execution_count": 47,
   "id": "17e61fd6",
   "metadata": {},
   "outputs": [],
   "source": [
    "# code and analysis here\n",
    "def train_and_evaluate(model, optimizer, lr_scheduler=None):\n",
    "    \n",
    "    train_loss_lis = []\n",
    "    test_losses_lis = []\n",
    "\n",
    "    for epoch in range(10):\n",
    "\n",
    "        model.train()\n",
    "        train_loss = 0\n",
    "        for data, target in trainloader_minibatch:\n",
    "            optimizer.zero_grad()\n",
    "            output = model(data)\n",
    "            loss = nn.functional.cross_entropy(output, target)\n",
    "            loss.backward()\n",
    "            optimizer.step()\n",
    "            train_loss += loss.item()*data.size(0)\n",
    "            \n",
    "        train_loss = train_loss/len(trainloader_minibatch.dataset)\n",
    "        train_loss_lis.append(train_loss)\n",
    "\n",
    "        if lr_scheduler is not None:\n",
    "            lr_scheduler.step()\n",
    "        \n",
    "        model.eval()\n",
    "        test_loss = 0\n",
    "        correct = 0\n",
    "        with torch.no_grad():\n",
    "            for data, target in testloader:\n",
    "                output = model(data)\n",
    "                test_loss += nn.functional.cross_entropy(output, target, reduction='sum').item()\n",
    "                pred = output.argmax(dim=1, keepdim=True)\n",
    "                correct += pred.eq(target.view_as(pred)).sum().item()\n",
    "                \n",
    "        test_loss /= len(testloader.dataset)\n",
    "        test_losses_lis.append(test_loss)\n",
    "        \n",
    "        print(f'Epoch {epoch+1}/{epochs}, Train Loss: {train_loss:.4f}, Test Loss: {test_loss:.4f}, Test Acc: {correct/len(testloader.dataset):.4f}')\n",
    "    \n",
    "    return train_loss_lis, test_losses_lis"
   ]
  },
  {
   "cell_type": "code",
   "execution_count": 48,
   "id": "0ca55848",
   "metadata": {},
   "outputs": [
    {
     "name": "stdout",
     "output_type": "stream",
     "text": [
      "Epoch 1/range(1, 6), Train Loss: 0.0475, Test Loss: 0.0779, Test Acc: 0.9759\n",
      "Epoch 2/range(1, 6), Train Loss: 0.0391, Test Loss: 0.0781, Test Acc: 0.9766\n",
      "Epoch 3/range(1, 6), Train Loss: 0.0324, Test Loss: 0.0722, Test Acc: 0.9803\n",
      "Epoch 4/range(1, 6), Train Loss: 0.0262, Test Loss: 0.0849, Test Acc: 0.9775\n",
      "Epoch 5/range(1, 6), Train Loss: 0.0231, Test Loss: 0.0822, Test Acc: 0.9784\n",
      "Epoch 6/range(1, 6), Train Loss: 0.0195, Test Loss: 0.0806, Test Acc: 0.9792\n",
      "Epoch 7/range(1, 6), Train Loss: 0.0170, Test Loss: 0.0817, Test Acc: 0.9784\n",
      "Epoch 8/range(1, 6), Train Loss: 0.0163, Test Loss: 0.0957, Test Acc: 0.9759\n",
      "Epoch 9/range(1, 6), Train Loss: 0.0120, Test Loss: 0.0916, Test Acc: 0.9778\n",
      "Epoch 10/range(1, 6), Train Loss: 0.0137, Test Loss: 0.0914, Test Acc: 0.9798\n",
      "Epoch 1/range(1, 6), Train Loss: 0.0126, Test Loss: 0.0960, Test Acc: 0.9780\n",
      "Epoch 2/range(1, 6), Train Loss: 0.0039, Test Loss: 0.0808, Test Acc: 0.9812\n",
      "Epoch 3/range(1, 6), Train Loss: 0.0018, Test Loss: 0.0808, Test Acc: 0.9815\n",
      "Epoch 4/range(1, 6), Train Loss: 0.0018, Test Loss: 0.0808, Test Acc: 0.9815\n",
      "Epoch 5/range(1, 6), Train Loss: 0.0017, Test Loss: 0.0808, Test Acc: 0.9816\n",
      "Epoch 6/range(1, 6), Train Loss: 0.0017, Test Loss: 0.0808, Test Acc: 0.9816\n",
      "Epoch 7/range(1, 6), Train Loss: 0.0017, Test Loss: 0.0808, Test Acc: 0.9816\n",
      "Epoch 8/range(1, 6), Train Loss: 0.0017, Test Loss: 0.0808, Test Acc: 0.9816\n",
      "Epoch 9/range(1, 6), Train Loss: 0.0017, Test Loss: 0.0808, Test Acc: 0.9816\n",
      "Epoch 10/range(1, 6), Train Loss: 0.0017, Test Loss: 0.0808, Test Acc: 0.9816\n",
      "Epoch 1/range(1, 6), Train Loss: 0.0017, Test Loss: 0.0808, Test Acc: 0.9816\n",
      "Epoch 2/range(1, 6), Train Loss: 0.0017, Test Loss: 0.0808, Test Acc: 0.9816\n",
      "Epoch 3/range(1, 6), Train Loss: 0.0017, Test Loss: 0.0808, Test Acc: 0.9816\n",
      "Epoch 4/range(1, 6), Train Loss: 0.0017, Test Loss: 0.0808, Test Acc: 0.9816\n",
      "Epoch 5/range(1, 6), Train Loss: 0.0017, Test Loss: 0.0808, Test Acc: 0.9816\n",
      "Epoch 6/range(1, 6), Train Loss: 0.0017, Test Loss: 0.0808, Test Acc: 0.9816\n",
      "Epoch 7/range(1, 6), Train Loss: 0.0017, Test Loss: 0.0808, Test Acc: 0.9816\n",
      "Epoch 8/range(1, 6), Train Loss: 0.0017, Test Loss: 0.0808, Test Acc: 0.9816\n",
      "Epoch 9/range(1, 6), Train Loss: 0.0017, Test Loss: 0.0808, Test Acc: 0.9816\n",
      "Epoch 10/range(1, 6), Train Loss: 0.0017, Test Loss: 0.0808, Test Acc: 0.9816\n"
     ]
    }
   ],
   "source": [
    "step = lr_scheduler.MultiStepLR(adam_optimizer, milestones=[30,80], gamma=0.1)\n",
    "exponential = lr_scheduler.ExponentialLR(adam_optimizer, gamma=0.1)\n",
    "\n",
    "train_loss1, test_loss1 = train_and_evaluate(model, adam_optimizer, step)\n",
    "train_loss2, test_loss2 = train_and_evaluate(model, adam_optimizer, exponential)\n",
    "train_loss3, test_loss3 = train_and_evaluate(model, adam_optimizer)"
   ]
  },
  {
   "cell_type": "code",
   "execution_count": 52,
   "id": "69ef00b6",
   "metadata": {},
   "outputs": [
    {
     "data": {
      "image/png": "[encoded data removed]",
      "text/plain": [
       "<Figure size 720x576 with 1 Axes>"
      ]
     },
     "metadata": {
      "needs_background": "light"
     },
     "output_type": "display_data"
    }
   ],
   "source": [
    "f = plt.figure()\n",
    "f.set_figwidth(10)\n",
    "f.set_figheight(8)\n",
    "plt.plot(train_loss1, label='Train Loss MultiStepLR')\n",
    "plt.plot(test_loss1, label='Test Loss MultiStepLR')\n",
    "plt.plot(train_loss2, label='Train Loss ExponentialLR')\n",
    "plt.plot(test_loss2, label='Test Loss ExponentialLR')\n",
    "plt.plot(train_loss3, label='Train Loss (no scheduler)')\n",
    "plt.plot(test_loss3, label='Test Loss (no scheduler)')\n",
    "plt.xlabel('Epoch')\n",
    "plt.ylabel('Loss')\n",
    "plt.legend()\n",
    "plt.show()"
   ]
  },
  {
   "cell_type": "markdown",
   "id": "91631d83",
   "metadata": {
    "jp-MarkdownHeadingCollapsed": true,
    "tags": []
   },
   "source": [
    "### Step six: Define 3 models with following changes:\n",
    "1. Add BatchNorm\n",
    "2. Add Dropout\n",
    "3. Add BatchNorm and Dropout"
   ]
  },
  {
   "cell_type": "code",
   "execution_count": 53,
   "id": "67d845a4",
   "metadata": {},
   "outputs": [],
   "source": [
    "# code here\n",
    "class MLP_BatchNorm(nn.Module):\n",
    "    def __init__(self):\n",
    "        super(MLP_BatchNorm, self).__init__()\n",
    "        self.fc1 = nn.Linear(784, 256)\n",
    "        self.bn1 = nn.BatchNorm1d(256)\n",
    "        self.fc2 = nn.Linear(256, 128)\n",
    "        self.bn2 = nn.BatchNorm1d(128)\n",
    "        self.fc3 = nn.Linear(128, 10)\n",
    "\n",
    "    def forward(self, x):\n",
    "        x = x.view(-1, 784)\n",
    "        x = self.fc1(x)\n",
    "        x = self.bn1(x)\n",
    "        x = nn.functional.relu(x)\n",
    "        x = self.fc2(x)\n",
    "        x = self.bn2(x)\n",
    "        x = nn.functional.relu(x)\n",
    "        x = self.fc3(x)\n",
    "        return x\n",
    "\n",
    "class MLP_Dropout(nn.Module):\n",
    "    def __init__(self):\n",
    "        super(MLP_Dropout, self).__init__()\n",
    "        self.fc1 = nn.Linear(784, 256)\n",
    "        self.dropout1 = nn.Dropout(p=0.2)\n",
    "        self.fc2 = nn.Linear(256, 128)\n",
    "        self.dropout2 = nn.Dropout(p=0.2)\n",
    "        self.fc3 = nn.Linear(128, 10)\n",
    "        \n",
    "    def forward(self, x):\n",
    "        x = x.view(x.size(0), -1)\n",
    "        x = self.fc1(x)\n",
    "        x = nn.functional.relu(x)\n",
    "        x = self.dropout1(x)\n",
    "        x = self.fc2(x)\n",
    "        x = nn.functional.relu(x)\n",
    "        x = self.dropout2(x)\n",
    "        x = self.fc3(x)\n",
    "        return x\n",
    "    \n",
    "\n",
    "class MLP_Both(nn.Module):\n",
    "    def __init__(self):\n",
    "        super(MLP_Both,self).__init__()\n",
    "        self.fc1 = nn.Linear(784, 512)  \n",
    "        self.bn1 = nn.BatchNorm1d(512)\n",
    "        self.dropout1 = nn.Dropout(p=0.5)\n",
    "        self.fc2 = nn.Linear(512, 256)  \n",
    "        self.bn2 = nn.BatchNorm1d(256)\n",
    "        self.dropout2 = nn.Dropout(p=0.5)\n",
    "        self.fc3 = nn.Linear(256, 10)   \n",
    "        self.relu = nn.ReLU()\n",
    "\n",
    "    def forward(self,x):\n",
    "        x = x.view(x.size(0), -1) \n",
    "        x = self.relu(self.fc1(x))\n",
    "        x = self.bn1(x)\n",
    "        x = self.dropout1(x)    \n",
    "        x = self.relu(self.fc2(x))\n",
    "        x = self.bn2(x)\n",
    "        x = self.dropout2(x)   \n",
    "        x = self.fc3(x)     \n",
    "        return x"
   ]
  },
  {
   "cell_type": "markdown",
   "id": "adc3d78f",
   "metadata": {
    "jp-MarkdownHeadingCollapsed": true,
    "tags": []
   },
   "source": [
    "### Step seven: Train the above models and compare with SimpleMLP.\n",
    "\n",
    "Use your choice of optimizer, use no lr_scheduler so as to re-use the previous results.\n",
    "\n",
    "Perform analysis. You've got the drill by now."
   ]
  },
  {
   "cell_type": "code",
   "execution_count": 54,
   "id": "0a86605f",
   "metadata": {},
   "outputs": [
    {
     "name": "stdout",
     "output_type": "stream",
     "text": [
      "Epoch 1/range(1, 6), Train Loss: 0.0017, Test Loss: 0.0808, Test Acc: 0.9816\n",
      "Epoch 2/range(1, 6), Train Loss: 0.0017, Test Loss: 0.0808, Test Acc: 0.9816\n",
      "Epoch 3/range(1, 6), Train Loss: 0.0017, Test Loss: 0.0808, Test Acc: 0.9816\n",
      "Epoch 4/range(1, 6), Train Loss: 0.0017, Test Loss: 0.0808, Test Acc: 0.9816\n",
      "Epoch 5/range(1, 6), Train Loss: 0.0017, Test Loss: 0.0808, Test Acc: 0.9816\n",
      "Epoch 6/range(1, 6), Train Loss: 0.0017, Test Loss: 0.0808, Test Acc: 0.9816\n",
      "Epoch 7/range(1, 6), Train Loss: 0.0017, Test Loss: 0.0808, Test Acc: 0.9816\n",
      "Epoch 8/range(1, 6), Train Loss: 0.0017, Test Loss: 0.0808, Test Acc: 0.9816\n",
      "Epoch 9/range(1, 6), Train Loss: 0.0017, Test Loss: 0.0808, Test Acc: 0.9816\n",
      "Epoch 10/range(1, 6), Train Loss: 0.0017, Test Loss: 0.0808, Test Acc: 0.9816\n",
      "Epoch 1/range(1, 6), Train Loss: 0.1979, Test Loss: 0.1022, Test Acc: 0.9689\n",
      "Epoch 2/range(1, 6), Train Loss: 0.0991, Test Loss: 0.0799, Test Acc: 0.9754\n",
      "Epoch 3/range(1, 6), Train Loss: 0.0741, Test Loss: 0.0822, Test Acc: 0.9731\n",
      "Epoch 4/range(1, 6), Train Loss: 0.0637, Test Loss: 0.0870, Test Acc: 0.9745\n",
      "Epoch 5/range(1, 6), Train Loss: 0.0535, Test Loss: 0.0783, Test Acc: 0.9774\n",
      "Epoch 6/range(1, 6), Train Loss: 0.0446, Test Loss: 0.0831, Test Acc: 0.9761\n",
      "Epoch 7/range(1, 6), Train Loss: 0.0413, Test Loss: 0.0679, Test Acc: 0.9804\n",
      "Epoch 8/range(1, 6), Train Loss: 0.0383, Test Loss: 0.0629, Test Acc: 0.9816\n",
      "Epoch 9/range(1, 6), Train Loss: 0.0339, Test Loss: 0.0725, Test Acc: 0.9802\n",
      "Epoch 10/range(1, 6), Train Loss: 0.0308, Test Loss: 0.0778, Test Acc: 0.9799\n",
      "Epoch 1/range(1, 6), Train Loss: 0.3327, Test Loss: 0.1724, Test Acc: 0.9514\n",
      "Epoch 2/range(1, 6), Train Loss: 0.2592, Test Loss: 0.1914, Test Acc: 0.9475\n",
      "Epoch 3/range(1, 6), Train Loss: 0.2404, Test Loss: 0.1625, Test Acc: 0.9611\n",
      "Epoch 4/range(1, 6), Train Loss: 0.2203, Test Loss: 0.1800, Test Acc: 0.9547\n",
      "Epoch 5/range(1, 6), Train Loss: 0.2194, Test Loss: 0.1566, Test Acc: 0.9622\n",
      "Epoch 6/range(1, 6), Train Loss: 0.2110, Test Loss: 0.1764, Test Acc: 0.9602\n",
      "Epoch 7/range(1, 6), Train Loss: 0.2051, Test Loss: 0.1655, Test Acc: 0.9632\n",
      "Epoch 8/range(1, 6), Train Loss: 0.2018, Test Loss: 0.1768, Test Acc: 0.9606\n",
      "Epoch 9/range(1, 6), Train Loss: 0.1934, Test Loss: 0.1767, Test Acc: 0.9609\n",
      "Epoch 10/range(1, 6), Train Loss: 0.1955, Test Loss: 0.1705, Test Acc: 0.9653\n",
      "Epoch 1/range(1, 6), Train Loss: 0.3377, Test Loss: 0.1552, Test Acc: 0.9541\n",
      "Epoch 2/range(1, 6), Train Loss: 0.2242, Test Loss: 0.1095, Test Acc: 0.9662\n",
      "Epoch 3/range(1, 6), Train Loss: 0.1942, Test Loss: 0.1086, Test Acc: 0.9701\n",
      "Epoch 4/range(1, 6), Train Loss: 0.1792, Test Loss: 0.1249, Test Acc: 0.9700\n",
      "Epoch 5/range(1, 6), Train Loss: 0.1654, Test Loss: 0.0975, Test Acc: 0.9723\n",
      "Epoch 6/range(1, 6), Train Loss: 0.1616, Test Loss: 0.1227, Test Acc: 0.9743\n",
      "Epoch 7/range(1, 6), Train Loss: 0.1510, Test Loss: 0.0891, Test Acc: 0.9759\n",
      "Epoch 8/range(1, 6), Train Loss: 0.1393, Test Loss: 0.0702, Test Acc: 0.9783\n",
      "Epoch 9/range(1, 6), Train Loss: 0.1397, Test Loss: 0.0824, Test Acc: 0.9770\n",
      "Epoch 10/range(1, 6), Train Loss: 0.1277, Test Loss: 0.0782, Test Acc: 0.9775\n"
     ]
    }
   ],
   "source": [
    "# code here\n",
    "# code here\n",
    "BN_model = MLP_BatchNorm()\n",
    "adamBN_optimizer = torch.optim.Adam(BN_model.parameters(), lr=0.01)\n",
    "\n",
    "DR_model = MLP_Dropout()\n",
    "adamDR_optimizer = torch.optim.Adam(DR_model.parameters(), lr=0.01)\n",
    "\n",
    "Both_model = MLP_Both()\n",
    "adamBoth_optimizer = torch.optim.Adam(Both_model.parameters(), lr=0.01)\n",
    "\n",
    "\n",
    "train_loss0, test_loss0 = train_and_evaluate(model, adam_optimizer)\n",
    "train_loss1, test_loss1 = train_and_evaluate(BN_model, adamBN_optimizer)\n",
    "train_loss2, test_loss2 = train_and_evaluate(DR_model, adamDR_optimizer)\n",
    "train_loss3, test_loss3 = train_and_evaluate(Both_model, adamBoth_optimizer)"
   ]
  },
  {
   "cell_type": "markdown",
   "id": "159e3334",
   "metadata": {
    "jp-MarkdownHeadingCollapsed": true,
    "tags": []
   },
   "source": [
    "### Step eight: Mini-batch vs Stocastic\n",
    "Now that you might have a clear winner in your mind regarding which model and settings perform the best, train it on mini-batch and stocastic and compare time taken, loss curve, accuracy etc.\n",
    "\n",
    "Perform an analysis like never before!"
   ]
  },
  {
   "cell_type": "code",
   "execution_count": 57,
   "id": "fa6fd837",
   "metadata": {},
   "outputs": [],
   "source": [
    "# code here\n",
    "# code here\n",
    "def train_and_evaluate2(model, optimizer, lr_scheduler=None, trainloader = trainloader_minibatch):\n",
    "\n",
    "    train_losses = []\n",
    "    test_losses = []\n",
    "\n",
    "    for epoch in range(25):\n",
    "\n",
    "        model.train()\n",
    "        train_loss = 0\n",
    "        for data, target in trainloader_minibatch:\n",
    "            optimizer.zero_grad()\n",
    "            output = model(data)\n",
    "            loss = nn.functional.cross_entropy(output, target)\n",
    "            loss.backward()\n",
    "            optimizer.step()\n",
    "            train_loss += loss.item()*data.size(0)\n",
    "            \n",
    "        train_loss = train_loss/len(trainloader_minibatch.dataset)\n",
    "        train_losses.append(train_loss)\n",
    "\n",
    "        if lr_scheduler is not None:\n",
    "            lr_scheduler.step()\n",
    "        \n",
    "        model.eval()\n",
    "        test_loss = 0\n",
    "        correct = 0\n",
    "        with torch.no_grad():\n",
    "            for data, target in testloader:\n",
    "                output = model(data)\n",
    "                test_loss += nn.functional.cross_entropy(output, target, reduction='sum').item()\n",
    "                pred = output.argmax(dim=1, keepdim=True)\n",
    "                correct += pred.eq(target.view_as(pred)).sum().item()\n",
    "                \n",
    "        test_loss /= len(testloader.dataset)\n",
    "        test_losses.append(test_loss)\n",
    "\n",
    "        if (epoch+1) % 5 == 0:\n",
    "            print(f'Epoch {epoch+1}/{25}, Train Loss: {train_loss:.4f}, Test Loss: {test_loss:.4f}, Test Acc: {correct/len(testloader.dataset):.4f}')\n",
    "\n",
    "        \n",
    "    print(\"*********************************************\")\n",
    "    if(trainloader == trainloader_minibatch):\n",
    "        print(\"Loader: Minibatch\",)\n",
    "    else:\n",
    "        print(\"Loader: Stochastic\")\n",
    "    print(\"Test accuracy:\", 100 * correct / len(testloader.dataset))\n",
    "    print(\"Train loss:\", train_losses[-1])\n",
    "    print(\"Test loss:\", test_losses[-1])\n",
    "    # print(\"F1 Score:\", test_f1_scores[-1])\n",
    "    print(\"*********************************************\")\n",
    "\n",
    "    \n",
    "    return train_losses, test_losses\n"
   ]
  },
  {
   "cell_type": "code",
   "execution_count": 58,
   "id": "99cc9c6d",
   "metadata": {},
   "outputs": [
    {
     "name": "stdout",
     "output_type": "stream",
     "text": [
      "Epoch 5/25, Train Loss: 0.0111, Test Loss: 0.0970, Test Acc: 0.9837\n",
      "Epoch 10/25, Train Loss: 0.0111, Test Loss: 0.1200, Test Acc: 0.9818\n",
      "Epoch 15/25, Train Loss: 0.0089, Test Loss: 0.1240, Test Acc: 0.9828\n",
      "Epoch 20/25, Train Loss: 0.0089, Test Loss: 0.1281, Test Acc: 0.9820\n",
      "Epoch 25/25, Train Loss: 0.0089, Test Loss: 0.1182, Test Acc: 0.9838\n",
      "*********************************************\n",
      "Loader: Minibatch\n",
      "Test accuracy: 98.38\n",
      "Train loss: 0.008912535004558441\n",
      "Test loss: 0.11818007385964883\n",
      "*********************************************\n",
      "Epoch 5/25, Train Loss: 0.0083, Test Loss: 0.1198, Test Acc: 0.9839\n",
      "Epoch 10/25, Train Loss: 0.0083, Test Loss: 0.1501, Test Acc: 0.9825\n",
      "Epoch 15/25, Train Loss: 0.0096, Test Loss: 0.1227, Test Acc: 0.9851\n",
      "Epoch 20/25, Train Loss: 0.0085, Test Loss: 0.1303, Test Acc: 0.9843\n",
      "Epoch 25/25, Train Loss: 0.0070, Test Loss: 0.1410, Test Acc: 0.9847\n",
      "*********************************************\n",
      "Loader: Stochastic\n",
      "Test accuracy: 98.47\n",
      "Train loss: 0.007025515014793571\n",
      "Test loss: 0.1409549517390654\n",
      "*********************************************\n"
     ]
    }
   ],
   "source": [
    "train_loss1, test_loss1 = train_and_evaluate2(BN_model, adamBN_optimizer, step, trainloader_minibatch)\n",
    "train_loss2, test_loss2 = train_and_evaluate2(BN_model, adamBN_optimizer, step, trainloader_stochastic)"
   ]
  },
  {
   "cell_type": "code",
   "execution_count": 59,
   "id": "232b6e59",
   "metadata": {},
   "outputs": [
    {
     "name": "stdout",
     "output_type": "stream",
     "text": [
      "0.00376664932039239\n",
      "-0.03798491158876287\n",
      "-0.024925083445540813\n",
      "-0.021688004424818247\n",
      "-0.02282472874636246\n",
      "-0.012958251964051065\n",
      "-0.012735843786054413\n",
      "-0.008036853805893043\n",
      "-0.029818564018875254\n",
      "-0.030038914570806263\n",
      "-0.015191544914963856\n",
      "-0.03299574997422006\n",
      "-0.009846160983182112\n",
      "-0.05429835272289457\n",
      "0.0012738984774750828\n",
      "-0.021407072030709698\n",
      "-0.047706445691491156\n",
      "-0.022821691962318466\n",
      "-0.036878989436750345\n",
      "-0.0022481002958758545\n",
      "-0.025382563160367855\n",
      "-0.028945066934600305\n",
      "-0.025236649666341482\n",
      "-0.003673625371253736\n",
      "-0.022774877879416552\n"
     ]
    }
   ],
   "source": [
    "for i in range(len(test_loss1)):\n",
    "    print(test_loss1[i] - test_loss2[i])"
   ]
  },
  {
   "cell_type": "code",
   "execution_count": 60,
   "id": "4e0c0a7f",
   "metadata": {},
   "outputs": [
    {
     "data": {
      "image/png": "[encoded data removed]",
      "text/plain": [
       "<Figure size 432x288 with 1 Axes>"
      ]
     },
     "metadata": {
      "needs_background": "light"
     },
     "output_type": "display_data"
    }
   ],
   "source": [
    "plt.plot(train_loss1, label='Train Loss Minibatch')\n",
    "plt.plot(test_loss1, label='Test Loss Minibatch')\n",
    "plt.plot(train_loss2, label='Train Loss Stochastic')\n",
    "plt.plot(test_loss2, label='Test Loss Stochastic')\n",
    "plt.xlabel('Epoch')\n",
    "plt.ylabel('Loss')\n",
    "plt.legend()\n",
    "plt.show()"
   ]
  },
  {
   "cell_type": "markdown",
   "id": "d6f04f42",
   "metadata": {
    "jp-MarkdownHeadingCollapsed": true,
    "tags": []
   },
   "source": [
    "### And most importantly!!! What did we learn?\n",
    "Discuss any and all learnings here. The discussions must be all-encompassing so that we know what did you learn. \n",
    "\n",
    "Please do not copy from your friend or copy-paste from the internet. We can see repetitions during evaluations."
   ]
  },
  {
   "attachments": {},
   "cell_type": "markdown",
   "id": "a7a3eb6d",
   "metadata": {},
   "source": [
    "We learned applying MLP to MNIST dataset. We also learned how to use Batch Normalization and Dropout to improve the performance of MLP. We also learned how to use Stochastic Gradient Descent to train the model. \n",
    "We also compared the performance of different optimizers and found that Adam optimizer is the best optimizer for our data. We also compared the performance of different learning rate schedulers and found its impact on results. We also compared the performance of mini-batch and stochastic gradient descent and found its impact on results."
   ]
  },
  {
   "cell_type": "markdown",
   "id": "de10b1eb",
   "metadata": {},
   "source": []
  }
 ],
 "metadata": {
  "kernelspec": {
   "display_name": "Python 3",
   "language": "python",
   "name": "python3"
  },
  "language_info": {
   "codemirror_mode": {
    "name": "ipython",
    "version": 3
   },
   "file_extension": ".py",
   "mimetype": "text/x-python",
   "name": "python",
   "nbconvert_exporter": "python",
   "pygments_lexer": "ipython3",
   "version": "3.10.6"
  }
 },
 "nbformat": 4,
 "nbformat_minor": 5
}
