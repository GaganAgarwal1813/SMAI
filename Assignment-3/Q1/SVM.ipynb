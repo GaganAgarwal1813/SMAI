{
 "cells": [
  {
   "cell_type": "markdown",
   "id": "e709daec-676f-43c4-b995-cc7ab58ecda0",
   "metadata": {
    "jp-MarkdownHeadingCollapsed": true,
    "tags": []
   },
   "source": [
    "# SMAI Assignment - 3\n",
    "\n",
    "## Question - `1` : Support Vector Machines\n",
    "\n",
    "| | |\n",
    "|- | -|\n",
    "| Course | Statistical Methods in AI |\n",
    "| Release Date | `09.03.2023` |\n",
    "| Due Date | `24.03.2023` |"
   ]
  },
  {
   "cell_type": "markdown",
   "id": "af3b5b55-94e7-4d17-a3c6-bc9246d7b116",
   "metadata": {},
   "source": [
    "This section is divided into 2 subsections.\n",
    "\n",
    "\n",
    "*   In the first subsection, you will work on a synthetic dataset and visualize the boundary predicted by SVM. You will also vary the value of C-parameter and see how the decision boundary changes. **Please note that you cannot use inbuilt sklearn function for SVM in this sub-section**. You can only use a QCQP (Quadratically Constrained Quadratic Program) solver like CVXPY. \n",
    "\n",
    "  References which you may find helpful for this subsection: \n",
    "  \n",
    "  1.   https://www.cvxpy.org/\n",
    "  2.   https://www.cvxpy.org/examples/basic/quadratic_program.html\n",
    "\n",
    "  Note that in this section you are expected to show how you derived the Quadratically Constrained form(which can be passed into the solver) from the basic principles of SVM algorithm\n",
    "*  In the second subsection you will use be using the famous MNIST dataset to explore various kernels and report the results. **Please note you may use inbuilt sklearn SVM functions in this subsection**\n"
   ]
  },
  {
   "cell_type": "code",
   "execution_count": 29,
   "id": "5024e6b9",
   "metadata": {},
   "outputs": [
    {
     "name": "stdout",
     "output_type": "stream",
     "text": [
      "Defaulting to user installation because normal site-packages is not writeable\n",
      "Requirement already satisfied: numpy in /home/gagan/.local/lib/python3.10/site-packages (1.23.1)\n",
      "Defaulting to user installation because normal site-packages is not writeable\n",
      "Requirement already satisfied: matplotlib in /home/gagan/.local/lib/python3.10/site-packages (3.6.0)\n",
      "Requirement already satisfied: pillow>=6.2.0 in /usr/lib/python3/dist-packages (from matplotlib) (9.0.1)\n",
      "Requirement already satisfied: contourpy>=1.0.1 in /home/gagan/.local/lib/python3.10/site-packages (from matplotlib) (1.0.5)\n",
      "Requirement already satisfied: numpy>=1.19 in /home/gagan/.local/lib/python3.10/site-packages (from matplotlib) (1.23.1)\n",
      "Requirement already satisfied: pyparsing>=2.2.1 in /usr/lib/python3/dist-packages (from matplotlib) (2.4.7)\n",
      "Requirement already satisfied: kiwisolver>=1.0.1 in /home/gagan/.local/lib/python3.10/site-packages (from matplotlib) (1.4.4)\n",
      "Requirement already satisfied: packaging>=20.0 in /home/gagan/.local/lib/python3.10/site-packages (from matplotlib) (21.3)\n",
      "Requirement already satisfied: cycler>=0.10 in /home/gagan/.local/lib/python3.10/site-packages (from matplotlib) (0.11.0)\n",
      "Requirement already satisfied: python-dateutil>=2.7 in /home/gagan/.local/lib/python3.10/site-packages (from matplotlib) (2.8.2)\n",
      "Requirement already satisfied: fonttools>=4.22.0 in /home/gagan/.local/lib/python3.10/site-packages (from matplotlib) (4.37.3)\n",
      "Requirement already satisfied: six>=1.5 in /usr/lib/python3/dist-packages (from python-dateutil>=2.7->matplotlib) (1.16.0)\n",
      "Defaulting to user installation because normal site-packages is not writeable\n",
      "Requirement already satisfied: cvxpy in /home/gagan/.local/lib/python3.10/site-packages (1.3.1)\n",
      "Requirement already satisfied: numpy>=1.15 in /home/gagan/.local/lib/python3.10/site-packages (from cvxpy) (1.23.1)\n",
      "Requirement already satisfied: osqp>=0.4.1 in /home/gagan/.local/lib/python3.10/site-packages (from cvxpy) (0.6.2.post8)\n",
      "Requirement already satisfied: setuptools>65.5.1 in /home/gagan/.local/lib/python3.10/site-packages (from cvxpy) (67.6.0)\n",
      "Requirement already satisfied: ecos>=2 in /home/gagan/.local/lib/python3.10/site-packages (from cvxpy) (2.0.12)\n",
      "Requirement already satisfied: scipy>=1.1.0 in /home/gagan/.local/lib/python3.10/site-packages (from cvxpy) (1.10.0)\n",
      "Requirement already satisfied: scs>=1.1.6 in /home/gagan/.local/lib/python3.10/site-packages (from cvxpy) (3.2.2)\n",
      "Requirement already satisfied: qdldl in /home/gagan/.local/lib/python3.10/site-packages (from osqp>=0.4.1->cvxpy) (0.1.5.post3)\n"
     ]
    }
   ],
   "source": [
    "!pip install numpy\n",
    "!pip install matplotlib\n",
    "!pip install cvxpy\n",
    "import numpy as np\n",
    "import cvxpy as cp\n",
    "from sklearn import svm\n",
    "import matplotlib.pyplot as plt"
   ]
  },
  {
   "cell_type": "markdown",
   "id": "122ebcc9",
   "metadata": {
    "jp-MarkdownHeadingCollapsed": true,
    "tags": []
   },
   "source": [
    "### Subsection 1"
   ]
  },
  {
   "cell_type": "code",
   "execution_count": 3,
   "id": "193fa0dc",
   "metadata": {},
   "outputs": [],
   "source": [
    "# Helper function to visualize 2D points X with labels +1 or -1\n",
    "def plot_points(X, Y):\n",
    "    reds = []\n",
    "    blues = []\n",
    "    for i in range(Y.shape[0]):\n",
    "        if Y[i] == 1:\n",
    "            reds.append(X[i])\n",
    "        else:\n",
    "            blues.append(X[i])\n",
    "    reds = np.array(reds)\n",
    "    blues = np.array(blues)\n",
    "    plt.scatter(reds[:, 0], reds[:, 1], c = 'r')\n",
    "    plt.scatter(blues[:, 0], blues[:, 1], c = 'b')"
   ]
  },
  {
   "cell_type": "code",
   "execution_count": 4,
   "id": "4e30d978",
   "metadata": {},
   "outputs": [
    {
     "data": {
      "image/png": "[encoded data removed]",
      "text/plain": [
       "<Figure size 432x288 with 1 Axes>"
      ]
     },
     "metadata": {
      "needs_background": "light"
     },
     "output_type": "display_data"
    }
   ],
   "source": [
    "# Create Synthetic Data and visualize the points\n",
    "X = np.array([[-3.5, -1], [-3, 0], [-3, 1], [-2.7, -1.3], [-2, -1], [-2, -2.7], \n",
    "              [-1, -2.5], [0, -3], [-1.1, 0], [0, 2.5], [1, 2], [0.7, 4], \n",
    "              [2.1, 0.2], [2.3, 1], [2.8, 1.8], [2.2, 2.8]])\n",
    "y = np.array([1, 1, 1, 1, 1, 1, 1, 1, -1, -1, -1, -1, -1, -1, -1, -1])\n",
    "\n",
    "plot_points(X, y)\n",
    "plt.show()"
   ]
  },
  {
   "cell_type": "markdown",
   "id": "f0e5df93",
   "metadata": {},
   "source": [
    "In the next cell you are required to find the Quadratic Constrained Quadratic form of SVM **without soft constraints** from the basic principles (check the svm slides uploaded in the portal). Start with the idea that SVM tries to maximize the margin and then derive the form which you can feed to the solver.\n",
    "\n",
    "Please print the values of w, b. \n",
    "\n",
    "**Note: You are also required to upload a page of the derivation. You may also type it in markdown here**\n",
    "\n",
    "**Note: You cannot use sklearn SVM functions here**"
   ]
  },
  {
   "attachments": {},
   "cell_type": "markdown",
   "id": "c46f5e5b",
   "metadata": {},
   "source": [
    "<img src=\"./1.jpeg\" alt=\"SVM\" width=\"800\" height=\"500\">\n"
   ]
  },
  {
   "attachments": {},
   "cell_type": "markdown",
   "id": "0fd29e92",
   "metadata": {},
   "source": [
    "<img src=\"./2.jpeg\" alt=\"SVM\" width=\"800\" height=\"500\">\n"
   ]
  },
  {
   "attachments": {},
   "cell_type": "markdown",
   "id": "03fe9bbd",
   "metadata": {},
   "source": [
    "<img src=\"./3.jpeg\" alt=\"SVM\" width=\"800\" height=\"500\">\n"
   ]
  },
  {
   "cell_type": "code",
   "execution_count": 5,
   "id": "84197274",
   "metadata": {},
   "outputs": [],
   "source": [
    "# Write your code here\n",
    "def svm(X,y):\n",
    "\n",
    "    w = cp.Variable(2); b = cp.Variable()\n",
    "\n",
    "    # Define the constraints\n",
    "    constraints = [y[i]*(w.T@X[i] + b) >= 1 for i in range(len(X))]\n",
    "\n",
    "    # Define the objective function\n",
    "    obj = cp.Minimize((1/2)*cp.sum_squares(w))\n",
    "\n",
    "    # Define the problem\n",
    "    prob = cp.Problem(obj, constraints)\n",
    "\n",
    "    # Solve the problem\n",
    "    prob.solve()\n",
    "    return prob, w, b"
   ]
  },
  {
   "cell_type": "code",
   "execution_count": 6,
   "id": "01f698d1",
   "metadata": {},
   "outputs": [],
   "source": [
    "def plot_helper(prob, w, b):\n",
    "    print(\"Optimal value\", prob.value)\n",
    "    print(\"w = \", w.value)\n",
    "    print(\"b = \", b.value)\n",
    "    slope = -(w.value[0]/w.value[1])\n",
    "    print(\"slope: \" + str(slope))\n",
    "    intercept = -(b.value/w.value[1])\n",
    "    print(\"intercept: \" + str(intercept))\n",
    "    return slope, intercept"
   ]
  },
  {
   "cell_type": "code",
   "execution_count": 7,
   "id": "a78544e8",
   "metadata": {},
   "outputs": [
    {
     "name": "stdout",
     "output_type": "stream",
     "text": [
      "Optimal value 2.3629489603024565\n",
      "w =  [-1.73913043 -1.30434783]\n",
      "b =  -2.91304347826087\n",
      "slope: -1.3333333333333333\n",
      "intercept: -2.2333333333333343\n"
     ]
    }
   ],
   "source": [
    "prob, w, b = svm(X,y)\n",
    "slope, intercept = plot_helper(prob, w, b)"
   ]
  },
  {
   "cell_type": "code",
   "execution_count": 8,
   "id": "c007ed0a",
   "metadata": {},
   "outputs": [
    {
     "data": {
      "image/png": "[encoded data removed]",
      "text/plain": [
       "<Figure size 432x288 with 1 Axes>"
      ]
     },
     "metadata": {
      "needs_background": "light"
     },
     "output_type": "display_data"
    }
   ],
   "source": [
    "def plot_graph(slope, intercept, title=\"SVM without Slack\"):\n",
    "    x_val = []\n",
    "    y_val = []\n",
    "\n",
    "    for i in range(len(X)):\n",
    "        x_val.append(X[i][0])\n",
    "        y_hat = slope * x_val[i] + intercept\n",
    "        y_val.append(y_hat)\n",
    "    plt.title(title)\n",
    "    plt.plot(x_val, y_val, color='Black')\n",
    "    plot_points(X, y)\n",
    "    plt.show()\n",
    "\n",
    "plot_graph(slope, intercept)"
   ]
  },
  {
   "cell_type": "markdown",
   "id": "a9b1e0da",
   "metadata": {},
   "source": [
    "In the next cell you are required to visualize the boundary predicted by the solver. You may want to revise up on how to plot the a line given w, b. Please plot w vector as well as the margin lines.\n",
    "\n",
    "Create a function to plot the line of separation as you would require this frequently in the subsequent parts of the assignment."
   ]
  },
  {
   "cell_type": "code",
   "execution_count": 9,
   "id": "5f96d4d6",
   "metadata": {},
   "outputs": [],
   "source": [
    "# Write your code here"
   ]
  },
  {
   "cell_type": "markdown",
   "id": "658b1a66",
   "metadata": {},
   "source": [
    "In the next cell add the following points:\n",
    "* (-4, -10) with label 1\n",
    "* (4, 4) with label -1\n",
    "\n",
    "Is the decision boundary changed after adding the points? Plot it. Explain your observations theoretically."
   ]
  },
  {
   "cell_type": "code",
   "execution_count": 10,
   "id": "80306b81",
   "metadata": {},
   "outputs": [
    {
     "data": {
      "image/png": "[encoded data removed]",
      "text/plain": [
       "<Figure size 432x288 with 1 Axes>"
      ]
     },
     "metadata": {
      "needs_background": "light"
     },
     "output_type": "display_data"
    }
   ],
   "source": [
    "# Re-create the Synthetic Data by adding the points and visualize the points\n",
    "X = np.array([[-3.5, -1], [-3, 0], [-3, 1], [-2.7, -1.3], [-2, -1], [-2, -2.7], \n",
    "              [-1, -2.5], [0, -3], [-1.1, 0], [0, 2.5], [1, 2], [0.7, 4], \n",
    "              [2.1, 0.2], [2.3, 1], [2.8, 1.8], [2.2, 2.8], [-4,-10], [4, 4]])\n",
    "y = np.array([1, 1, 1, 1, 1, 1, 1, 1, -1, -1, -1, -1, -1, -1, -1, -1, 1, -1])\n",
    "plot_points(X, y)\n",
    "plt.show()"
   ]
  },
  {
   "cell_type": "code",
   "execution_count": 11,
   "id": "b261003f",
   "metadata": {},
   "outputs": [
    {
     "name": "stdout",
     "output_type": "stream",
     "text": [
      "Optimal value 2.3629489603024587\n",
      "w =  [-1.73913043 -1.30434783]\n",
      "b =  -2.9130434782608705\n",
      "slope: -1.3333333333333333\n",
      "intercept: -2.2333333333333334\n"
     ]
    },
    {
     "data": {
      "image/png": "[encoded data removed]",
      "text/plain": [
       "<Figure size 432x288 with 1 Axes>"
      ]
     },
     "metadata": {
      "needs_background": "light"
     },
     "output_type": "display_data"
    }
   ],
   "source": [
    "# Solve for the decision boundary using this modified dataset\n",
    "prob, w, b = svm(X,y)\n",
    "slope, intercept = plot_helper(prob, w, b)\n",
    "plot_graph(slope, intercept)"
   ]
  },
  {
   "attachments": {},
   "cell_type": "markdown",
   "id": "38493d61",
   "metadata": {},
   "source": [
    "<b>Observation</b> <br>\n",
    "Yes the decision boundary has changed and now we can observe that due to single outlier point the decision boundary may not work well on the testing data hence we need to introduce softening of the decision boundary in the form of Slack."
   ]
  },
  {
   "cell_type": "markdown",
   "id": "0f1cf9f3",
   "metadata": {},
   "source": [
    "In the next cell you are required to modify your framing of optimisation problem to incorporate soft constraints also known as slack. Plot the decision boundary, w and margin lines for various values of C: $0.01$, $0.1$, $3$, $10$, $100$.\n",
    "\n",
    "Explain your results theoretically. How does the boundary change with varying values of C? Why?\n",
    "\n",
    "**Note: Use the modified X and y i.e after adding points in previous cell**"
   ]
  },
  {
   "cell_type": "code",
   "execution_count": 12,
   "id": "2500260c",
   "metadata": {},
   "outputs": [],
   "source": [
    "def soft_svm(X,y, C):\n",
    "    m, n = np.shape(X)\n",
    "\n",
    "    # Create two scalar optimization variables.\n",
    "    w = cp.Variable(n) # n = 2 here\n",
    "    b = cp.Variable()\n",
    "    epsilon = cp.Variable(m) # m = no. of datapoints \n",
    "\n",
    "    # Define the constraints\n",
    "    constraints = []\n",
    "    for i in range(len(X)):\n",
    "        constraints.append(y[i] * (w.T @ X[i] + b) >= 1-epsilon[i])\n",
    "        constraints.append(epsilon[i]>=0)\n",
    "\n",
    "    # Define the objective function\n",
    "    obj = cp.Minimize((1/2)*cp.sum_squares(w) + C*cp.sum(epsilon))\n",
    "\n",
    "    # Define the problem\n",
    "    prob = cp.Problem(obj, constraints)\n",
    "\n",
    "    # Solve the problem\n",
    "    prob.solve()\n",
    "\n",
    "    return prob, w, b\n"
   ]
  },
  {
   "cell_type": "code",
   "execution_count": 13,
   "id": "ce4f034f",
   "metadata": {},
   "outputs": [
    {
     "name": "stdout",
     "output_type": "stream",
     "text": [
      "Optimal value 0.09495328307392997\n",
      "w =  [-0.22506809 -0.19858949]\n",
      "b =  0.013672178988326457\n",
      "slope: -1.1333333333333346\n",
      "intercept: 0.06884643644378939\n"
     ]
    },
    {
     "data": {
      "image/png": "[encoded data removed]",
      "text/plain": [
       "<Figure size 432x288 with 1 Axes>"
      ]
     },
     "metadata": {
      "needs_background": "light"
     },
     "output_type": "display_data"
    }
   ],
   "source": [
    "# Write your code here for C= 0.01\n",
    "prob, w, b = soft_svm(X,y, 0.01)\n",
    "slope, intercept = plot_helper(prob, w, b)\n",
    "plot_graph(slope, intercept, \"SVM with Slack C = 0.01\")"
   ]
  },
  {
   "cell_type": "code",
   "execution_count": 14,
   "id": "dbefa5fe",
   "metadata": {},
   "outputs": [
    {
     "name": "stdout",
     "output_type": "stream",
     "text": [
      "Optimal value 0.3045548922462842\n",
      "w =  [-0.38493724 -0.35146444]\n",
      "b =  -0.12133891213389113\n",
      "slope: -1.0952380952380951\n",
      "intercept: -0.345238095238095\n"
     ]
    },
    {
     "data": {
      "image/png": "[encoded data removed]",
      "text/plain": [
       "<Figure size 432x288 with 1 Axes>"
      ]
     },
     "metadata": {
      "needs_background": "light"
     },
     "output_type": "display_data"
    }
   ],
   "source": [
    "# Write your code here for C= 0.1\n",
    "prob, w, b = soft_svm(X,y, 0.1)\n",
    "slope, intercept = plot_helper(prob, w, b)\n",
    "plot_graph(slope, intercept, \"SVM with Slack C = 0.1\")"
   ]
  },
  {
   "cell_type": "code",
   "execution_count": 15,
   "id": "6ae9583d",
   "metadata": {},
   "outputs": [
    {
     "name": "stdout",
     "output_type": "stream",
     "text": [
      "Optimal value 2.362948960302459\n",
      "w =  [-1.73913043 -1.30434783]\n",
      "b =  -2.913043478260871\n",
      "slope: -1.3333333333333333\n",
      "intercept: -2.2333333333333334\n"
     ]
    },
    {
     "data": {
      "image/png": "[encoded data removed]",
      "text/plain": [
       "<Figure size 432x288 with 1 Axes>"
      ]
     },
     "metadata": {
      "needs_background": "light"
     },
     "output_type": "display_data"
    }
   ],
   "source": [
    "# Write your code here for C= 3\n",
    "prob, w, b = soft_svm(X,y, 3)\n",
    "slope, intercept = plot_helper(prob, w, b)\n",
    "plot_graph(slope, intercept, \"SVM with Slack C = 3\")"
   ]
  },
  {
   "cell_type": "code",
   "execution_count": 16,
   "id": "5d38823c",
   "metadata": {},
   "outputs": [
    {
     "name": "stdout",
     "output_type": "stream",
     "text": [
      "Optimal value 2.3629489603024587\n",
      "w =  [-1.73913043 -1.30434783]\n",
      "b =  -2.913043478260871\n",
      "slope: -1.3333333333333333\n",
      "intercept: -2.2333333333333334\n"
     ]
    },
    {
     "data": {
      "image/png": "[encoded data removed]",
      "text/plain": [
       "<Figure size 432x288 with 1 Axes>"
      ]
     },
     "metadata": {
      "needs_background": "light"
     },
     "output_type": "display_data"
    }
   ],
   "source": [
    "# Write your code here for C= 10\n",
    "prob, w, b = soft_svm(X,y, 10)\n",
    "slope, intercept = plot_helper(prob, w, b)\n",
    "plot_graph(slope, intercept, \"SVM with Slack C = 10\")"
   ]
  },
  {
   "cell_type": "code",
   "execution_count": 17,
   "id": "c19a80ac",
   "metadata": {},
   "outputs": [
    {
     "name": "stdout",
     "output_type": "stream",
     "text": [
      "Optimal value 2.362948960302459\n",
      "w =  [-1.73913043 -1.30434783]\n",
      "b =  -2.913043478260871\n",
      "slope: -1.3333333333333333\n",
      "intercept: -2.2333333333333334\n"
     ]
    },
    {
     "data": {
      "image/png": "[encoded data removed]",
      "text/plain": [
       "<Figure size 432x288 with 1 Axes>"
      ]
     },
     "metadata": {
      "needs_background": "light"
     },
     "output_type": "display_data"
    }
   ],
   "source": [
    "# Write your code here for C= 100\n",
    "prob, w, b = soft_svm(X,y, 100)\n",
    "slope, intercept = plot_helper(prob, w, b)\n",
    "plot_graph(slope, intercept, \"SVM with Slack C = 100\")"
   ]
  },
  {
   "cell_type": "markdown",
   "id": "2df4e54a",
   "metadata": {},
   "source": [
    "Take the case of C = 100 and remove the support vectors. Does the boundary change after the deletion? Explain why?"
   ]
  },
  {
   "cell_type": "code",
   "execution_count": 18,
   "id": "efd0de52",
   "metadata": {},
   "outputs": [
    {
     "data": {
      "image/png": "[encoded data removed]",
      "text/plain": [
       "<Figure size 432x288 with 1 Axes>"
      ]
     },
     "metadata": {
      "needs_background": "light"
     },
     "output_type": "display_data"
    }
   ],
   "source": [
    "# Write your Code here\n",
    "# The Suppot Vectors are (-3,1) -> 1, (0,-3) -> 1, (-1.1,0) -> -1\n",
    "\n",
    "X = np.array([[-3.5, -1], [-3, 0], [-2.7, -1.3], [-2, -1], [-2, -2.7], \n",
    "              [-1, -2.5], [0, 2.5], [1, 2], [0.7, 4], \n",
    "              [2.1, 0.2], [2.3, 1], [2.8, 1.8], [2.2, 2.8]])\n",
    "y = np.array([1, 1, 1, 1, 1, 1, -1, -1, -1, -1, -1, -1, -1])\n",
    "\n",
    "plot_points(X, y)\n",
    "plt.show()\n"
   ]
  },
  {
   "cell_type": "code",
   "execution_count": 19,
   "id": "1e2b7cfb",
   "metadata": {},
   "outputs": [
    {
     "name": "stdout",
     "output_type": "stream",
     "text": [
      "Optimal value 0.13585196337599129\n",
      "w =  [-0.38493724 -0.35146444]\n",
      "b =  -0.12133891213389116\n",
      "slope: -1.0952380952380956\n",
      "intercept: -0.3452380952380952\n"
     ]
    },
    {
     "data": {
      "image/png": "[encoded data removed]",
      "text/plain": [
       "<Figure size 432x288 with 1 Axes>"
      ]
     },
     "metadata": {
      "needs_background": "light"
     },
     "output_type": "display_data"
    }
   ],
   "source": [
    "prob, w, b = soft_svm(X,y, 100)\n",
    "slope, intercept = plot_helper(prob, w, b)\n",
    "plot_graph(slope, intercept, \"SVM with Slack C = 100 and without Support Vectors\")"
   ]
  },
  {
   "attachments": {},
   "cell_type": "markdown",
   "id": "a49436b9",
   "metadata": {},
   "source": [
    "Yes the Decision Boundary Changed after the deletion of the support vectors. This is because the support vectors are the points which are closest to the decision boundary and hence removing them will change the decision boundary."
   ]
  },
  {
   "cell_type": "markdown",
   "id": "5112cd3f",
   "metadata": {
    "jp-MarkdownHeadingCollapsed": true,
    "tags": []
   },
   "source": [
    "### Subsection 2"
   ]
  },
  {
   "cell_type": "code",
   "execution_count": 20,
   "id": "3e8e2de6",
   "metadata": {},
   "outputs": [
    {
     "name": "stdout",
     "output_type": "stream",
     "text": [
      "Defaulting to user installation because normal site-packages is not writeable\n",
      "Requirement already satisfied: python-mnist in /home/gagan/.local/lib/python3.10/site-packages (0.7)\n",
      "--2023-03-22 13:10:30--  http://yann.lecun.com/exdb/mnist/train-images-idx3-ubyte.gz\n",
      "Resolving yann.lecun.com (yann.lecun.com)... 172.67.171.76, 104.21.29.36, 2606:4700:3034::6815:1d24, ...\n",
      "Connecting to yann.lecun.com (yann.lecun.com)|172.67.171.76|:80... connected.\n",
      "HTTP request sent, awaiting response... 200 OK\n",
      "Length: 9912422 (9.5M) [application/x-gzip]\n",
      "Saving to: ‘samples/train-images-idx3-ubyte.gz’\n",
      "\n",
      "train-images-idx3-u 100%[===================>]   9.45M  2.22MB/s    in 4.1s    \n",
      "\n",
      "2023-03-22 13:10:34 (2.28 MB/s) - ‘samples/train-images-idx3-ubyte.gz’ saved [9912422/9912422]\n",
      "\n",
      "--2023-03-22 13:10:35--  http://yann.lecun.com/exdb/mnist/train-labels-idx1-ubyte.gz\n",
      "Resolving yann.lecun.com (yann.lecun.com)... 104.21.29.36, 172.67.171.76, 2606:4700:3034::6815:1d24, ...\n",
      "Connecting to yann.lecun.com (yann.lecun.com)|104.21.29.36|:80... connected.\n",
      "HTTP request sent, awaiting response... 200 OK\n",
      "Length: 28881 (28K) [application/x-gzip]\n",
      "Saving to: ‘samples/train-labels-idx1-ubyte.gz’\n",
      "\n",
      "train-labels-idx1-u 100%[===================>]  28.20K  --.-KB/s    in 0.009s  \n",
      "\n",
      "2023-03-22 13:10:35 (3.08 MB/s) - ‘samples/train-labels-idx1-ubyte.gz’ saved [28881/28881]\n",
      "\n",
      "--2023-03-22 13:10:35--  http://yann.lecun.com/exdb/mnist/t10k-images-idx3-ubyte.gz\n",
      "Resolving yann.lecun.com (yann.lecun.com)... 172.67.171.76, 104.21.29.36, 2606:4700:3034::6815:1d24, ...\n",
      "Connecting to yann.lecun.com (yann.lecun.com)|172.67.171.76|:80... connected.\n",
      "HTTP request sent, awaiting response... 200 OK\n",
      "Length: 1648877 (1.6M) [application/x-gzip]\n",
      "Saving to: ‘samples/t10k-images-idx3-ubyte.gz’\n",
      "\n",
      "t10k-images-idx3-ub 100%[===================>]   1.57M  5.38MB/s    in 0.3s    \n",
      "\n",
      "2023-03-22 13:10:36 (5.38 MB/s) - ‘samples/t10k-images-idx3-ubyte.gz’ saved [1648877/1648877]\n",
      "\n",
      "--2023-03-22 13:10:36--  http://yann.lecun.com/exdb/mnist/t10k-labels-idx1-ubyte.gz\n",
      "Resolving yann.lecun.com (yann.lecun.com)... 104.21.29.36, 172.67.171.76, 2606:4700:3036::ac43:ab4c, ...\n",
      "Connecting to yann.lecun.com (yann.lecun.com)|104.21.29.36|:80... connected.\n",
      "HTTP request sent, awaiting response... 200 OK\n",
      "Length: 4542 (4.4K) [application/x-gzip]\n",
      "Saving to: ‘samples/t10k-labels-idx1-ubyte.gz’\n",
      "\n",
      "t10k-labels-idx1-ub 100%[===================>]   4.44K  --.-KB/s    in 0s      \n",
      "\n",
      "2023-03-22 13:10:38 (182 MB/s) - ‘samples/t10k-labels-idx1-ubyte.gz’ saved [4542/4542]\n",
      "\n"
     ]
    }
   ],
   "source": [
    "!pip install python-mnist\n",
    "!rm -rf samples\n",
    "!mkdir samples\n",
    "!wget http://yann.lecun.com/exdb/mnist/train-images-idx3-ubyte.gz -P samples/\n",
    "!gunzip samples/train-images-idx3-ubyte.gz\n",
    "!wget http://yann.lecun.com/exdb/mnist/train-labels-idx1-ubyte.gz -P samples/\n",
    "!gunzip samples/train-labels-idx1-ubyte.gz\n",
    "!wget http://yann.lecun.com/exdb/mnist/t10k-images-idx3-ubyte.gz -P samples/\n",
    "!gunzip samples/t10k-images-idx3-ubyte.gz\n",
    "!wget http://yann.lecun.com/exdb/mnist/t10k-labels-idx1-ubyte.gz -P samples/\n",
    "!gunzip samples/t10k-labels-idx1-ubyte.gz"
   ]
  },
  {
   "cell_type": "code",
   "execution_count": 21,
   "id": "af8d27d7",
   "metadata": {},
   "outputs": [],
   "source": [
    "# Import Relevant Packages\n",
    "from sklearn.svm import SVC\n",
    "import numpy as np\n",
    "from mnist.loader import MNIST"
   ]
  },
  {
   "cell_type": "code",
   "execution_count": 22,
   "id": "71500275",
   "metadata": {},
   "outputs": [
    {
     "name": "stdout",
     "output_type": "stream",
     "text": [
      "(60000, 784)\n",
      "(60000,)\n"
     ]
    }
   ],
   "source": [
    "mndata = MNIST('samples')\n",
    "\n",
    "# Load training dataset\n",
    "images, labels = mndata.load_training()\n",
    "l = len(labels)\n",
    "images_train = np.array(images)\n",
    "labels_train = np.array(labels)\n",
    "\n",
    "print(images_train.shape)\n",
    "print(labels_train.shape)"
   ]
  },
  {
   "cell_type": "code",
   "execution_count": 23,
   "id": "eec20e4f",
   "metadata": {},
   "outputs": [
    {
     "name": "stdout",
     "output_type": "stream",
     "text": [
      "(10000, 784)\n",
      "(10000,)\n"
     ]
    }
   ],
   "source": [
    "# Load testing dataset\n",
    "images, labels = mndata.load_testing()\n",
    "l = len(labels)\n",
    "images_test = np.array(images)\n",
    "labels_test = np.array(labels)\n",
    "\n",
    "print(images_test.shape)\n",
    "print(labels_test.shape)"
   ]
  },
  {
   "cell_type": "markdown",
   "id": "c5ddaf4a",
   "metadata": {},
   "source": [
    "- Tweak different parameters like the C Parameter and gamma parameter of the Linear SVM and report the results.\n",
    "- Experiment different kernels (Linear, Polynomial, RBF, Sigmoid) for classification and report the results.\n",
    "\n",
    "Report accuracy score, F1-score, Confusion matrix and any other metrics you feel useful."
   ]
  },
  {
   "cell_type": "code",
   "execution_count": 24,
   "id": "4e138279",
   "metadata": {},
   "outputs": [],
   "source": [
    "# use this subset of data for training and testing\n",
    "\n",
    "batch = 3000\n",
    "X_train = images_train[:batch,:]\n",
    "y_train = labels_train[:batch]\n",
    "\n",
    "X_test = images_test[batch:2*batch,:]\n",
    "y_test = labels_test[batch:2*batch]"
   ]
  },
  {
   "cell_type": "code",
   "execution_count": 25,
   "id": "ddd6a92f",
   "metadata": {},
   "outputs": [
    {
     "name": "stdout",
     "output_type": "stream",
     "text": [
      "(3000, 784)\n",
      "(3000,)\n",
      "(3000, 784)\n",
      "(3000,)\n"
     ]
    }
   ],
   "source": [
    "print(X_train.shape)\n",
    "print(y_train.shape)\n",
    "print(X_test.shape)\n",
    "print(y_test.shape)"
   ]
  },
  {
   "cell_type": "code",
   "execution_count": 26,
   "id": "498ae450",
   "metadata": {},
   "outputs": [
    {
     "name": "stdout",
     "output_type": "stream",
     "text": [
      "Defaulting to user installation because normal site-packages is not writeable\n",
      "Requirement already satisfied: prettytable in /home/gagan/.local/lib/python3.10/site-packages (3.6.0)\n",
      "Requirement already satisfied: wcwidth in /home/gagan/.local/lib/python3.10/site-packages (from prettytable) (0.2.5)\n"
     ]
    }
   ],
   "source": [
    "!pip install prettytable\n",
    "from prettytable import PrettyTable\n",
    "def print_report(report):\n",
    "    table = PrettyTable()\n",
    "    table.field_names = [\"Class\", \"Precision\", \"Recall\", \"F1-score\", \"Support\"]\n",
    "    for class_name, metrics in report.items():\n",
    "        if class_name in [\"accuracy\"]:\n",
    "            continue\n",
    "        row = [class_name, metrics['precision'], metrics['recall'], metrics['f1-score'], metrics['support']]\n",
    "        table.add_row(row)\n",
    "    print(table)\n",
    "    print()\n"
   ]
  },
  {
   "cell_type": "code",
   "execution_count": 27,
   "id": "dcca0c48",
   "metadata": {},
   "outputs": [],
   "source": [
    "from sklearn import metrics\n",
    "import gc\n",
    "\n",
    "def print_report_helper(predictions):\n",
    "    confusion = metrics.confusion_matrix(y_true = y_test, y_pred = predictions)\n",
    "    print(\"Confusion Matrix\")\n",
    "    print(confusion)\n",
    "    print()\n",
    "    print(\"Accuracy Score = \",metrics.accuracy_score(y_true=y_test, y_pred=predictions))\n",
    "    class_wise = metrics.classification_report(y_true=y_test, y_pred=predictions, output_dict=True)\n",
    "    print_report(class_wise)\n",
    "    gc.collect()"
   ]
  },
  {
   "attachments": {},
   "cell_type": "markdown",
   "id": "13fca882",
   "metadata": {},
   "source": [
    "#### C Paramter and Gamma Parameter of Linear SVM"
   ]
  },
  {
   "cell_type": "code",
   "execution_count": 30,
   "id": "679fe789",
   "metadata": {},
   "outputs": [
    {
     "name": "stdout",
     "output_type": "stream",
     "text": [
      "{'C': 1, 'gamma': 4e-05, 'kernel': 'linear'}\n",
      "0.8893333333333333\n",
      "Confusion Matrix\n",
      "[[288   0   4   0   1   1   1   1   1   0]\n",
      " [  0 339   1   2   0   1   2   1   0   0]\n",
      " [  3   5 286   6   4   0   1   4   3   0]\n",
      " [  3   2   8 237   0  18   0   3   5   3]\n",
      " [  1   1   5   0 250   0   3   1   0  20]\n",
      " [  3   2   1  14   1 226   2   3  11   2]\n",
      " [  6   0   8   0   7   6 260   2   1   0]\n",
      " [  0   4  10   5   2   0   1 259   2  20]\n",
      " [  4   3   2  13   6  19   3   2 245   4]\n",
      " [  2   5   3   7  18   1   0  11   1 278]]\n",
      "\n",
      "Accuracy Score =  0.8893333333333333\n",
      "+--------------+--------------------+--------------------+--------------------+---------+\n",
      "|    Class     |     Precision      |       Recall       |      F1-score      | Support |\n",
      "+--------------+--------------------+--------------------+--------------------+---------+\n",
      "|      0       | 0.9290322580645162 | 0.9696969696969697 | 0.9489291598023064 |   297   |\n",
      "|      1       | 0.9390581717451524 | 0.9797687861271677 | 0.958981612446959  |   346   |\n",
      "|      2       | 0.8719512195121951 | 0.9166666666666666 | 0.8937499999999999 |   312   |\n",
      "|      3       | 0.8345070422535211 | 0.8494623655913979 | 0.841918294849023  |   279   |\n",
      "|      4       | 0.8650519031141869 | 0.8896797153024911 | 0.8771929824561404 |   281   |\n",
      "|      5       | 0.8308823529411765 | 0.8528301886792453 | 0.8417132216014899 |   265   |\n",
      "|      6       | 0.9523809523809523 | 0.896551724137931  | 0.9236234458259325 |   290   |\n",
      "|      7       | 0.9024390243902439 | 0.8547854785478548 | 0.8779661016949154 |   303   |\n",
      "|      8       | 0.9107806691449815 | 0.813953488372093  | 0.8596491228070177 |   301   |\n",
      "|      9       | 0.8501529051987767 | 0.852760736196319  | 0.8514548238897396 |   326   |\n",
      "|  macro avg   | 0.8886236498745703 | 0.8876156119318136 | 0.8875178765373523 |   3000  |\n",
      "| weighted avg | 0.8899668969127268 | 0.8893333333333333 | 0.8890444070271425 |   3000  |\n",
      "+--------------+--------------------+--------------------+--------------------+---------+\n",
      "\n",
      "Test Accuracy =  0.8893333333333333\n"
     ]
    }
   ],
   "source": [
    "from sklearn.svm import SVC\n",
    "from sklearn.model_selection import GridSearchCV\n",
    "from sklearn.pipeline import make_pipeline\n",
    "from sklearn.preprocessing import StandardScaler\n",
    "\n",
    "def helper():\n",
    "    parameters = {'C':[1, 10, 100, 1000], 'gamma': [0.00004, 0.000004, 0.0000004, 0.00000004, 0.000001, 0.000000004],'kernel':['linear']}\n",
    "    grid = GridSearchCV(SVC(),parameters)\n",
    "    grid.fit(X_train,y_train)\n",
    "\n",
    "    print(grid.best_params_)\n",
    "    gamma = grid.best_params_['gamma']\n",
    "    C = grid.best_params_['C']\n",
    "    print(grid.score(X_test,y_test))\n",
    "\n",
    "    best_kernel = svm.SVC(kernel='linear', C=C, gamma=gamma)\n",
    "    best_kernel.fit(X_train, y_train)\n",
    "    predictions = best_kernel.predict(X_test)\n",
    "    test_accuracy = metrics.accuracy_score(y_true=y_test, y_pred=predictions)\n",
    "    print_report_helper(predictions)\n",
    "    print(\"Test Accuracy = \", test_accuracy)\n",
    "\n",
    "helper()\n"
   ]
  },
  {
   "attachments": {},
   "cell_type": "markdown",
   "id": "355e3223",
   "metadata": {},
   "source": [
    "#### Linear Kernel"
   ]
  },
  {
   "cell_type": "code",
   "execution_count": null,
   "id": "d5c07655",
   "metadata": {},
   "outputs": [],
   "source": [
    "\n",
    "import pandas as pd\n",
    "\n",
    "linear_kernel = svm.SVC(kernel='linear') # Linear Kernel\n",
    "linear_kernel.fit(X_train, y_train) # Fit\n",
    "predictions_linear = linear_kernel.predict(X_test) # Predict"
   ]
  },
  {
   "cell_type": "code",
   "execution_count": null,
   "id": "54302ec3",
   "metadata": {},
   "outputs": [
    {
     "name": "stdout",
     "output_type": "stream",
     "text": [
      "Confusion Matrix\n",
      "[[288   0   4   0   1   1   1   1   1   0]\n",
      " [  0 339   1   2   0   1   2   1   0   0]\n",
      " [  3   5 286   6   4   0   1   4   3   0]\n",
      " [  3   2   8 237   0  18   0   3   5   3]\n",
      " [  1   1   5   0 250   0   3   1   0  20]\n",
      " [  3   2   1  14   1 226   2   3  11   2]\n",
      " [  6   0   8   0   7   6 260   2   1   0]\n",
      " [  0   4  10   5   2   0   1 259   2  20]\n",
      " [  4   3   2  13   6  19   3   2 245   4]\n",
      " [  2   5   3   7  18   1   0  11   1 278]]\n",
      "\n",
      "Accuracy Score =  0.8893333333333333\n",
      "+--------------+--------------------+--------------------+--------------------+---------+\n",
      "|    Class     |     Precision      |       Recall       |      F1-score      | Support |\n",
      "+--------------+--------------------+--------------------+--------------------+---------+\n",
      "|      0       | 0.9290322580645162 | 0.9696969696969697 | 0.9489291598023064 |   297   |\n",
      "|      1       | 0.9390581717451524 | 0.9797687861271677 | 0.958981612446959  |   346   |\n",
      "|      2       | 0.8719512195121951 | 0.9166666666666666 | 0.8937499999999999 |   312   |\n",
      "|      3       | 0.8345070422535211 | 0.8494623655913979 | 0.841918294849023  |   279   |\n",
      "|      4       | 0.8650519031141869 | 0.8896797153024911 | 0.8771929824561404 |   281   |\n",
      "|      5       | 0.8308823529411765 | 0.8528301886792453 | 0.8417132216014899 |   265   |\n",
      "|      6       | 0.9523809523809523 | 0.896551724137931  | 0.9236234458259325 |   290   |\n",
      "|      7       | 0.9024390243902439 | 0.8547854785478548 | 0.8779661016949154 |   303   |\n",
      "|      8       | 0.9107806691449815 | 0.813953488372093  | 0.8596491228070177 |   301   |\n",
      "|      9       | 0.8501529051987767 | 0.852760736196319  | 0.8514548238897396 |   326   |\n",
      "|  macro avg   | 0.8886236498745703 | 0.8876156119318136 | 0.8875178765373523 |   3000  |\n",
      "| weighted avg | 0.8899668969127268 | 0.8893333333333333 | 0.8890444070271425 |   3000  |\n",
      "+--------------+--------------------+--------------------+--------------------+---------+\n",
      "\n"
     ]
    }
   ],
   "source": [
    "print_report_helper(predictions_linear)"
   ]
  },
  {
   "attachments": {},
   "cell_type": "markdown",
   "id": "7f0ce084",
   "metadata": {},
   "source": [
    "#### Polynomial Kernel"
   ]
  },
  {
   "cell_type": "code",
   "execution_count": null,
   "id": "f03d57c0",
   "metadata": {},
   "outputs": [],
   "source": [
    "poly_kernel = svm.SVC(kernel='poly')\n",
    "poly_kernel.fit(X_train, y_train)\n",
    "predictions_poly = poly_kernel.predict(X_test)"
   ]
  },
  {
   "cell_type": "code",
   "execution_count": null,
   "id": "95f18cee",
   "metadata": {},
   "outputs": [
    {
     "name": "stdout",
     "output_type": "stream",
     "text": [
      "Confusion Matrix\n",
      "[[278   2   1   0   0   9   4   1   2   0]\n",
      " [  0 342   1   2   0   0   1   0   0   0]\n",
      " [  1   8 286   4   3   0   1   6   2   1]\n",
      " [  0   6   6 249   0   9   0   4   5   0]\n",
      " [  1   4   1   0 260   0   4   0   0  11]\n",
      " [  1   3   0   7   1 241   3   2   5   2]\n",
      " [  6   2   1   0   5   2 274   0   0   0]\n",
      " [  0  10   5   0   4   0   1 265   1  17]\n",
      " [  1   1   1   8   6   7   0   3 271   3]\n",
      " [  0   7   0   4  22   2   0   4   1 286]]\n",
      "\n",
      "Accuracy Score =  0.9173333333333333\n",
      "+--------------+--------------------+--------------------+--------------------+---------+\n",
      "|    Class     |     Precision      |       Recall       |      F1-score      | Support |\n",
      "+--------------+--------------------+--------------------+--------------------+---------+\n",
      "|      0       | 0.9652777777777778 | 0.936026936026936  | 0.9504273504273505 |   297   |\n",
      "|      1       | 0.8883116883116883 | 0.9884393063583815 | 0.9357045143638851 |   346   |\n",
      "|      2       | 0.9470198675496688 | 0.9166666666666666 | 0.9315960912052117 |   312   |\n",
      "|      3       | 0.9087591240875912 | 0.8924731182795699 | 0.9005424954792043 |   279   |\n",
      "|      4       | 0.8637873754152824 | 0.9252669039145908 | 0.8934707903780068 |   281   |\n",
      "|      5       | 0.8925925925925926 | 0.909433962264151  | 0.9009345794392524 |   265   |\n",
      "|      6       | 0.9513888888888888 | 0.9448275862068966 | 0.9480968858131488 |   290   |\n",
      "|      7       | 0.9298245614035088 | 0.8745874587458746 | 0.9013605442176872 |   303   |\n",
      "|      8       | 0.9442508710801394 | 0.9003322259136213 | 0.9217687074829932 |   301   |\n",
      "|      9       |      0.89375       | 0.8773006134969326 | 0.8854489164086687 |   326   |\n",
      "|  macro avg   | 0.9184962747107139 | 0.916535477787362  | 0.916935087521541  |   3000  |\n",
      "| weighted avg | 0.9185134200195577 | 0.9173333333333333 | 0.9173073489581842 |   3000  |\n",
      "+--------------+--------------------+--------------------+--------------------+---------+\n",
      "\n"
     ]
    }
   ],
   "source": [
    "print_report_helper(predictions_poly)"
   ]
  },
  {
   "attachments": {},
   "cell_type": "markdown",
   "id": "999fb84e",
   "metadata": {},
   "source": [
    "#### RBF Kernel"
   ]
  },
  {
   "cell_type": "code",
   "execution_count": null,
   "id": "cd7dc6c8",
   "metadata": {},
   "outputs": [],
   "source": [
    "rbf_kernel = svm.SVC(kernel='rbf')\n",
    "rbf_kernel.fit(X_train, y_train)\n",
    "predictions_rbf = rbf_kernel.predict(X_test) # Predict"
   ]
  },
  {
   "cell_type": "code",
   "execution_count": null,
   "id": "4d750b78",
   "metadata": {},
   "outputs": [
    {
     "name": "stdout",
     "output_type": "stream",
     "text": [
      "Confusion Matrix\n",
      "[[293   0   1   0   1   1   1   0   0   0]\n",
      " [  0 339   2   2   0   1   1   1   0   0]\n",
      " [  0   0 298   5   2   0   1   3   3   0]\n",
      " [  1   0   5 256   0   9   0   4   4   0]\n",
      " [  1   1   2   0 267   0   3   0   0   7]\n",
      " [  2   1   0   7   0 248   3   1   1   2]\n",
      " [  5   0   5   0   3   5 272   0   0   0]\n",
      " [  0   6   6   1   1   0   0 265   2  22]\n",
      " [  0   1   2   5   3   9   2   3 271   5]\n",
      " [  2   3   1   5  17   1   0   4   1 292]]\n",
      "\n",
      "Accuracy Score =  0.9336666666666666\n",
      "+--------------+--------------------+--------------------+--------------------+---------+\n",
      "|    Class     |     Precision      |       Recall       |      F1-score      | Support |\n",
      "+--------------+--------------------+--------------------+--------------------+---------+\n",
      "|      0       | 0.9638157894736842 | 0.9865319865319865 | 0.9750415973377704 |   297   |\n",
      "|      1       | 0.9658119658119658 | 0.9797687861271677 | 0.9727403156384505 |   346   |\n",
      "|      2       | 0.9254658385093167 | 0.9551282051282052 | 0.9400630914826499 |   312   |\n",
      "|      3       | 0.9110320284697508 | 0.9175627240143369 | 0.9142857142857143 |   279   |\n",
      "|      4       | 0.9081632653061225 | 0.9501779359430605 | 0.9286956521739131 |   281   |\n",
      "|      5       | 0.9051094890510949 | 0.9358490566037736 | 0.9202226345083487 |   265   |\n",
      "|      6       | 0.9611307420494699 | 0.9379310344827586 | 0.9493891797556719 |   290   |\n",
      "|      7       | 0.9430604982206405 | 0.8745874587458746 | 0.9075342465753424 |   303   |\n",
      "|      8       | 0.9609929078014184 | 0.9003322259136213 | 0.9296740994854202 |   301   |\n",
      "|      9       | 0.8902439024390244 | 0.8957055214723927 | 0.8929663608562691 |   326   |\n",
      "|  macro avg   | 0.9334826427132489 | 0.9333574934963176 | 0.933061289209955  |   3000  |\n",
      "| weighted avg | 0.9341163409835672 | 0.9336666666666666 | 0.9335360184266112 |   3000  |\n",
      "+--------------+--------------------+--------------------+--------------------+---------+\n",
      "\n"
     ]
    }
   ],
   "source": [
    "print_report_helper(predictions_rbf)"
   ]
  },
  {
   "attachments": {},
   "cell_type": "markdown",
   "id": "044d4a72",
   "metadata": {},
   "source": [
    "#### Sigmoid Kernel"
   ]
  },
  {
   "cell_type": "code",
   "execution_count": null,
   "id": "41939249",
   "metadata": {},
   "outputs": [],
   "source": [
    "sigmoid_kernel = svm.SVC(kernel='sigmoid')\n",
    "sigmoid_kernel.fit(X_train, y_train)\n",
    "predictions_sigmoid = sigmoid_kernel.predict(X_test)"
   ]
  },
  {
   "cell_type": "code",
   "execution_count": null,
   "id": "8e38c66e",
   "metadata": {},
   "outputs": [
    {
     "name": "stdout",
     "output_type": "stream",
     "text": [
      "Confusion Matrix\n",
      "[[278   0   2   0   0  15   2   0   0   0]\n",
      " [  0 339   0   3   0   3   1   0   0   0]\n",
      " [  8   5 271   5   5   5   1   4   7   1]\n",
      " [  6   2  12 210   1  37   0   5   3   3]\n",
      " [  4   2   2   0 247   1   5   1   0  19]\n",
      " [  9   4   0  33   3 200   2   1  11   2]\n",
      " [ 15   0  14   0   6  11 243   0   1   0]\n",
      " [  3   9   6   0   5   1   0 251   3  25]\n",
      " [  5   8   6   9   5  21   4   4 230   9]\n",
      " [  6   3   5   4  30   4   0  15   3 256]]\n",
      "\n",
      "Accuracy Score =  0.8416666666666667\n",
      "+--------------+--------------------+--------------------+--------------------+---------+\n",
      "|    Class     |     Precision      |       Recall       |      F1-score      | Support |\n",
      "+--------------+--------------------+--------------------+--------------------+---------+\n",
      "|      0       | 0.8323353293413174 | 0.936026936026936  | 0.8811410459587955 |   297   |\n",
      "|      1       | 0.9112903225806451 | 0.9797687861271677 | 0.9442896935933147 |   346   |\n",
      "|      2       | 0.8522012578616353 | 0.8685897435897436 | 0.8603174603174605 |   312   |\n",
      "|      3       | 0.7954545454545454 | 0.7526881720430108 | 0.7734806629834253 |   279   |\n",
      "|      4       | 0.8178807947019867 | 0.8790035587188612 | 0.8473413379073755 |   281   |\n",
      "|      5       | 0.6711409395973155 | 0.7547169811320755 | 0.7104795737122558 |   265   |\n",
      "|      6       | 0.9418604651162791 | 0.8379310344827586 | 0.8868613138686131 |   290   |\n",
      "|      7       | 0.8932384341637011 | 0.8283828382838284 | 0.8595890410958904 |   303   |\n",
      "|      8       | 0.8914728682170543 | 0.7641196013289037 | 0.8228980322003577 |   301   |\n",
      "|      9       | 0.8126984126984127 | 0.7852760736196319 | 0.798751950078003  |   326   |\n",
      "|  macro avg   | 0.8419573369732893 | 0.8386503725352918 | 0.8385150111715489 |   3000  |\n",
      "| weighted avg | 0.845023101224936  | 0.8416666666666667 | 0.8415846613672942 |   3000  |\n",
      "+--------------+--------------------+--------------------+--------------------+---------+\n",
      "\n"
     ]
    }
   ],
   "source": [
    "print_report_helper(predictions_sigmoid)"
   ]
  },
  {
   "attachments": {},
   "cell_type": "markdown",
   "id": "362760aa",
   "metadata": {},
   "source": [
    "#### RBF Kernel and Parameter Tweaking"
   ]
  },
  {
   "attachments": {},
   "cell_type": "markdown",
   "id": "7f1daf7e",
   "metadata": {},
   "source": [
    "The RBF Kernel has shown the best accuracy among all the tested kernels"
   ]
  },
  {
   "cell_type": "code",
   "execution_count": null,
   "id": "1b2cea17",
   "metadata": {},
   "outputs": [],
   "source": [
    "gamma_vals = [0.00001, 0.00004, 0.000001, 0.000004, 0.0000001, 0.0000004, 0.00000001, 0.00000004, 0.000000001, 0.000000004]\n",
    "accuracy_lis = []"
   ]
  },
  {
   "cell_type": "code",
   "execution_count": null,
   "id": "023e4af4",
   "metadata": {},
   "outputs": [
    {
     "name": "stdout",
     "output_type": "stream",
     "text": [
      "Accuracy for gamma =  1e-05  is  0.18333333333333332\n",
      "Accuracy for gamma =  4e-05  is  0.11533333333333333\n",
      "Accuracy for gamma =  1e-06  is  0.9013333333333333\n",
      "Accuracy for gamma =  4e-06  is  0.25633333333333336\n",
      "Accuracy for gamma =  1e-07  is  0.9296666666666666\n",
      "Accuracy for gamma =  4e-07  is  0.9436666666666667\n",
      "Accuracy for gamma =  1e-08  is  0.903\n",
      "Accuracy for gamma =  4e-08  is  0.916\n"
     ]
    }
   ],
   "source": [
    "for gamma in gamma_vals:\n",
    "    best_kernel = svm.SVC(kernel='rbf', C=10, gamma=gamma)\n",
    "    best_kernel.fit(X_train, y_train)\n",
    "    predictions = best_kernel.predict(X_test)\n",
    "    test_accuracy = metrics.accuracy_score(y_true=y_test, y_pred=predictions)\n",
    "    accuracy_lis.append(test_accuracy)\n",
    "    print(\"Accuracy for gamma = \",gamma,\" is \",test_accuracy)"
   ]
  },
  {
   "cell_type": "code",
   "execution_count": null,
   "id": "5a1f9317",
   "metadata": {},
   "outputs": [],
   "source": []
  }
 ],
 "metadata": {
  "kernelspec": {
   "display_name": "Python 3 (ipykernel)",
   "language": "python",
   "name": "python3"
  },
  "language_info": {
   "codemirror_mode": {
    "name": "ipython",
    "version": 3
   },
   "file_extension": ".py",
   "mimetype": "text/x-python",
   "name": "python",
   "nbconvert_exporter": "python",
   "pygments_lexer": "ipython3",
   "version": "3.10.6"
  }
 },
 "nbformat": 4,
 "nbformat_minor": 5
}
